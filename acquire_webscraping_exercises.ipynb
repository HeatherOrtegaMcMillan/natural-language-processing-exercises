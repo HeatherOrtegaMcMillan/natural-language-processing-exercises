{
 "cells": [
  {
   "cell_type": "markdown",
   "id": "11e452a5-1869-4f0c-9e72-ef5f9fc8b821",
   "metadata": {},
   "source": [
    "# Web Scraping Acquire Notebook\n",
    "By the end of this exercise, you should have a file named acquire.py that contains the specified functions. If you wish, you may break your work into separate files for each website (e.g. acquire_codeup_blog.py and acquire_news_articles.py), but the end function should be present in acquire.py (that is, acquire.py should import get_blog_articles from the acquire_codeup_blog module.)\n"
   ]
  },
  {
   "cell_type": "code",
   "execution_count": 1,
   "id": "539d7502-18d7-4075-8124-16ed060b5cfd",
   "metadata": {},
   "outputs": [],
   "source": [
    "from requests import get\n",
    "from bs4 import BeautifulSoup\n",
    "import os"
   ]
  },
  {
   "cell_type": "markdown",
   "id": "9c965bd2-75d4-4e12-87dd-74358a9e32f4",
   "metadata": {},
   "source": [
    "### 1. Codeup Blog Articles\n",
    "\n",
    "Scrape the article text from the following pages:\n",
    "\n",
    "- https://codeup.com/codeups-data-science-career-accelerator-is-here/\n",
    "- https://codeup.com/data-science-myths/\n",
    "- https://codeup.com/data-science-vs-data-analytics-whats-the-difference/\n",
    "- https://codeup.com/10-tips-to-crush-it-at-the-sa-tech-job-fair/\n",
    "- https://codeup.com/competitor-bootcamps-are-closing-is-the-model-in-danger/\n",
    "\n",
    "Encapsulate your work in a function named get_blog_articles that will return a list of dictionaries, with each dictionary representing one article. The shape of each dictionary should look like this:\n",
    "\n",
    "```\n",
    "{\n",
    "    'title': 'the title of the article',\n",
    "    'content': 'the full text content of the article'\n",
    "}\n",
    "```\n",
    "Plus any additional properties you think might be helpful."
   ]
  },
  {
   "cell_type": "code",
   "execution_count": 2,
   "id": "ec047b6a-d834-4bde-861a-8f7fe6d766af",
   "metadata": {},
   "outputs": [],
   "source": [
    "url = 'https://codeup.com/codeups-data-science-career-accelerator-is-here/'\n",
    "headers = {'User-Agent': 'Codeup Data Science'} # Some websites don't accept the pyhon-requests default user-agent\n",
    "response = get(url, headers=headers)"
   ]
  },
  {
   "cell_type": "code",
   "execution_count": 3,
   "id": "bd119fde-4fbd-4bb4-95b7-d154c8a17d36",
   "metadata": {},
   "outputs": [
    {
     "data": {
      "text/plain": [
       "<Response [200]>"
      ]
     },
     "execution_count": 3,
     "metadata": {},
     "output_type": "execute_result"
    }
   ],
   "source": [
    "response"
   ]
  },
  {
   "cell_type": "code",
   "execution_count": 4,
   "id": "7b65d8e1-c673-4078-abb0-5ae1460055a7",
   "metadata": {},
   "outputs": [
    {
     "data": {
      "text/plain": [
       "200"
      ]
     },
     "execution_count": 4,
     "metadata": {},
     "output_type": "execute_result"
    }
   ],
   "source": [
    "response.status_code"
   ]
  },
  {
   "cell_type": "code",
   "execution_count": 5,
   "id": "73b35874-c864-43da-b4a5-5fcf4a3fa2a0",
   "metadata": {},
   "outputs": [
    {
     "name": "stdout",
     "output_type": "stream",
     "text": [
      "<!DOCTYPE html><html lang=\"en-US\"><head >\t<meta charset=\"UTF-8\" />\n",
      "\t<meta name=\"viewport\" content=\"width=device-width, initial-scale=1\" />\n",
      "\t<meta name='robots' content='index, follow, max-image-preview:large, max-snippet:-1, max-video-preview:-1' />\n",
      "<style type=\"text/css\" id=\"nab-alternative-loader-style\"></style>\n",
      "<script type=\"text/javascript\" id=\"nelio-ab-testing-kickoff\">/*nelio-ab-testing-kick\n"
     ]
    }
   ],
   "source": [
    "print(response.text[:400])"
   ]
  },
  {
   "cell_type": "code",
   "execution_count": 6,
   "id": "5e01e3b8-0fea-472f-9c67-73dcaa3f8347",
   "metadata": {},
   "outputs": [],
   "source": [
    "# Make a soup variable holding the response content\n",
    "# default is html.parser\n",
    "soup = BeautifulSoup(response.content, 'html.parser')\n"
   ]
  },
  {
   "cell_type": "code",
   "execution_count": 7,
   "id": "6499666d-8ed0-4ade-8bfd-259bc272ac3e",
   "metadata": {},
   "outputs": [
    {
     "data": {
      "text/plain": [
       "<h1 class=\"jupiterx-post-title\" itemprop=\"headline\">Codeup’s Data Science Career Accelerator is Here!</h1>"
      ]
     },
     "execution_count": 7,
     "metadata": {},
     "output_type": "execute_result"
    }
   ],
   "source": [
    "soup.find('h1')"
   ]
  },
  {
   "cell_type": "code",
   "execution_count": 8,
   "id": "8d406c2f-5184-462d-bf47-82e8ba261a9f",
   "metadata": {},
   "outputs": [],
   "source": [
    "articlebody = soup.find('div', itemprop= 'articleBody')"
   ]
  },
  {
   "cell_type": "code",
   "execution_count": 9,
   "id": "02d02192-2031-48bb-bc57-847f5ec97933",
   "metadata": {},
   "outputs": [
    {
     "data": {
      "text/plain": [
       "'The rumors are true! The time has arrived. Codeup has officially opened applications to our new Data Science career accelerator, with only 25 seats available! This immersive program is one of a kind in San Antonio, and will help you land a job in\\xa0Glassdoor’s #1 Best Job in America.\\nData Science is a method of providing actionable intelligence from data.\\xa0The data revolution has hit San Antonio,\\xa0resulting in an explosion in Data Scientist positions\\xa0across companies like USAA, Accenture, Booz Allen Hamilton, and HEB. We’ve even seen\\xa0UTSA invest $70 M for a Cybersecurity Center and School of Data Science.\\xa0We built a program to specifically meet the growing demands of this industry.\\nOur program will be 18 weeks long, full-time, hands-on, and project-based. Our curriculum development and instruction is led by Senior Data Scientist, Maggie Giust, who has worked at HEB, Capital Group, and Rackspace, along with input from dozens of practitioners and hiring partners. Students will work with real data sets, realistic problems, and the entire data science pipeline from collection to deployment. They will receive professional development training in resume writing, interviewing, and continuing education to prepare for a smooth transition to the workforce.\\nWe focus on applied data science for immediate impact and ROI in a business, which is how we can back it all up with a 6 month tuition refund guarantee – just like our existing Web Dev program. We’re focusing on Data Science with Python, SQL, and ML, covered in\\xa014 modules: 1) Fundamentals; 2) Applied statistics; 3) SQL; 4) Python; 5) Supervised machine learning – regression; 6) Supervised machine learning – classification; 7) Unsupervised machine learning – clustering; 8) Time series analysis; 9) Anomaly detection; 10) Natural language processing; 11) Distributed machine learning; 12) Advanced topics (deep learning, NoSQL, cloud deployment, etc.); 13) Storytelling with data; and 14) Domain expertise development.\\nApplications are now open\\xa0for Codeup’s first Data Science cohort, which will start class on February 4, 2019. Hurry – there are only 25 seats available! To further our mission of cultivating inclusive growth, scholarships will be available to women, minorities, LGBTQIA+ individuals, veterans, first responders, and people relocating to San Antonio.\\nIf you want to learn about joining our program or hiring our graduates, email datascience@codeup.com!\\n\\nFacebookTwitterLinkedIn'"
      ]
     },
     "execution_count": 9,
     "metadata": {},
     "output_type": "execute_result"
    }
   ],
   "source": [
    "articlebody.text\n",
    "\n",
    "# replace \\n and \\xa0\n",
    "\n",
    "#potential regex to remove the formatting '\\\\[n|xa0]'"
   ]
  },
  {
   "cell_type": "code",
   "execution_count": 10,
   "id": "c07f1434-fab7-4367-91c8-b72b8b8e3e62",
   "metadata": {},
   "outputs": [
    {
     "data": {
      "text/plain": [
       "'The rumors are true! The time has arrived. Codeup has officially opened applications to our new Data Science career accelerator, with only 25 seats available! This immersive program is one of a kind in San Antonio, and will help you land a job in\\xa0Glassdoor’s #1 Best Job in America.\\nData Science is a method of providing actionable intelligence from data.\\xa0The data revolution has hit San Antonio,\\xa0resulting in an explosion in Data Scientist positions\\xa0across companies like USAA, Accenture, Booz Allen Hamilton, and HEB. We’ve even seen\\xa0UTSA invest $70 M for a Cybersecurity Center and School of Data Science.\\xa0We built a program to specifically meet the growing demands of this industry.\\nOur program will be 18 weeks long, full-time, hands-on, and project-based. Our curriculum development and instruction is led by Senior Data Scientist, Maggie Giust, who has worked at HEB, Capital Group, and Rackspace, along with input from dozens of practitioners and hiring partners. Students will work with real data sets, realistic problems, and the entire data science pipeline from collection to deployment. They will receive professional development training in resume writing, interviewing, and continuing education to prepare for a smooth transition to the workforce.\\nWe focus on applied data science for immediate impact and ROI in a business, which is how we can back it all up with a 6 month tuition refund guarantee – just like our existing Web Dev program. We’re focusing on Data Science with Python, SQL, and ML, covered in\\xa014 modules: 1) Fundamentals; 2) Applied statistics; 3) SQL; 4) Python; 5) Supervised machine learning – regression; 6) Supervised machine learning – classification; 7) Unsupervised machine learning – clustering; 8) Time series analysis; 9) Anomaly detection; 10) Natural language processing; 11) Distributed machine learning; 12) Advanced topics (deep learning, NoSQL, cloud deployment, etc.); 13) Storytelling with data; and 14) Domain expertise development.\\nApplications are now open\\xa0for Codeup’s first Data Science cohort, which will start class on February 4, 2019. Hurry – there are only 25 seats available! To further our mission of cultivating inclusive growth, scholarships will be available to women, minorities, LGBTQIA+ individuals, veterans, first responders, and people relocating to San Antonio.\\nIf you want to learn about joining our program or hiring our graduates, email datascience@codeup.com!\\n\\n'"
      ]
     },
     "execution_count": 10,
     "metadata": {},
     "output_type": "execute_result"
    }
   ],
   "source": [
    "article = soup.find('div', class_='jupiterx-post-content')\n",
    "article.text"
   ]
  },
  {
   "cell_type": "code",
   "execution_count": 11,
   "id": "c4947100-ffa7-4b19-b277-c3ed8a2ae5e4",
   "metadata": {},
   "outputs": [],
   "source": [
    "with open('article.txt', 'w') as f:\n",
    "    f.write(article.text)"
   ]
  },
  {
   "cell_type": "code",
   "execution_count": 12,
   "id": "70a68e76-0fa1-45f2-9e01-40aaa52fd19c",
   "metadata": {},
   "outputs": [],
   "source": [
    "def get_article_text():\n",
    "    # if we already have the data, read it locally\n",
    "    if path.exists('article.txt'):\n",
    "        with open('article.txt') as f:\n",
    "            return f.read()\n",
    "\n",
    "    # otherwise go fetch the data\n",
    "    url = 'https://codeup.com/codeups-data-science-career-accelerator-is-here/'\n",
    "    headers = {'User-Agent': 'Codeup Data Science'}\n",
    "    response = get(url, headers=headers)\n",
    "    soup = BeautifulSoup(response.text)\n",
    "    article = soup.find('div', class_='jupiterx-post-content')\n",
    "\n",
    "    # save it for next time\n",
    "    with open('article.txt', 'w') as f:\n",
    "        f.write(article.text)\n",
    "\n",
    "    return article.text"
   ]
  },
  {
   "cell_type": "code",
   "execution_count": 13,
   "id": "b0184aff-1796-41b2-9102-407db7e3be2f",
   "metadata": {},
   "outputs": [],
   "source": [
    "website_list = ['https://codeup.com/codeups-data-science-career-accelerator-is-here/',\n",
    "                'https://codeup.com/data-science-myths/',\n",
    "                'https://codeup.com/data-science-vs-data-analytics-whats-the-difference/',\n",
    "                'https://codeup.com/10-tips-to-crush-it-at-the-sa-tech-job-fair/',\n",
    "                'https://codeup.com/competitor-bootcamps-are-closing-is-the-model-in-danger/']\n",
    "\n",
    "# all titles are under jupiterx-post-header (header class)\n",
    "\n",
    "title_finder = 'jupiterx-post-header'\n",
    "\n",
    "# all body text is under jupiterx-post-content (div class)\n",
    "\n",
    "body_finder = 'jupiterx-post-content'"
   ]
  },
  {
   "cell_type": "code",
   "execution_count": 14,
   "id": "7ca1af1d-5689-4502-bbc9-51181dc8e526",
   "metadata": {},
   "outputs": [],
   "source": [
    "# # initalize empty list for the dictionaries\n",
    "# article_list = []\n",
    "\n",
    "# # set up headers\n",
    "# headers = {'User-Agent': 'Codeup Data Science'} \n",
    "\n",
    "# # loop through list of websites\n",
    "# for website in website_list: \n",
    "    \n",
    "#     # get response\n",
    "#     response = get(website, headers=headers)\n",
    "\n",
    "#     # create soup object\n",
    "#     soup = BeautifulSoup(response.text)\n",
    "#     # find title\n",
    "#     title = soup.find('header', class_=title_finder).text\n",
    "\n",
    "#     # find body\n",
    "#     body = soup.find('div', class_=body_finder).text\n",
    "    \n",
    "#     # create dictionary\n",
    "#     dictionary = {'title': title,\n",
    "#                  'content': body}\n",
    "    \n",
    "#     # add dictionary to list of dictionaries\n",
    "#     article_list.append(dictionary)\n",
    "\n"
   ]
  },
  {
   "cell_type": "code",
   "execution_count": 15,
   "id": "64fc3b10-2968-40b2-a05d-8c28ec10ebb4",
   "metadata": {},
   "outputs": [
    {
     "data": {
      "text/plain": [
       "'Codeup’s Data Science Career Accelerator is Here! - Codeup'"
      ]
     },
     "execution_count": 15,
     "metadata": {},
     "output_type": "execute_result"
    }
   ],
   "source": [
    "soup.get_text(strip=True)\n",
    "\n",
    "soup.title.string"
   ]
  },
  {
   "cell_type": "code",
   "execution_count": 16,
   "id": "5c0cb043-61fa-45cf-9687-ff0a453adfb3",
   "metadata": {},
   "outputs": [],
   "source": [
    "# have list of websites and appropriate finders\n",
    "\n",
    "def get_blog_articles(websites, title_finder, body_finder):\n",
    "    '''\n",
    "    This function takes in a list of website urls, \n",
    "    the title finder and body finder (must be the same for each article)\n",
    "    And returns a list of dictionaries with title text and body text in dictionaries\n",
    "    Keys in dictionaries are 'title' and 'content'\n",
    "    '''\n",
    "    \n",
    "    # initalize empty list for the dictionaries\n",
    "    article_list = []\n",
    "    \n",
    "    # set up headers\n",
    "    headers = {'User-Agent': 'Codeup Data Science'} \n",
    "    \n",
    "    # loop through list of websites\n",
    "    for website in website_list: \n",
    "        \n",
    "        # get response\n",
    "        response = get(website, headers=headers)\n",
    "    \n",
    "        # create soup object\n",
    "        soup = BeautifulSoup(response.text)\n",
    "        # find title\n",
    "        #title = soup.find('header', class_=title_finder).text\n",
    "        title = soup.title.string\n",
    "    \n",
    "        # find body\n",
    "        body = soup.find('div', class_=body_finder).get_text(strip=True)\n",
    "        #body = soup.get_text(strip=True)\n",
    "        \n",
    "        # create dictionary\n",
    "        dictionary = {'title': title,\n",
    "                     'content': body}\n",
    "        \n",
    "        # add dictionary to list of dictionaries\n",
    "        article_list.append(dictionary)\n",
    "        \n",
    "    return article_list"
   ]
  },
  {
   "cell_type": "code",
   "execution_count": 17,
   "id": "82f58f11-bef9-421f-b10e-3f486532f038",
   "metadata": {},
   "outputs": [],
   "source": [
    "website_list = ['https://codeup.com/codeups-data-science-career-accelerator-is-here/',\n",
    "                'https://codeup.com/data-science-myths/',\n",
    "                'https://codeup.com/data-science-vs-data-analytics-whats-the-difference/',\n",
    "                'https://codeup.com/10-tips-to-crush-it-at-the-sa-tech-job-fair/',\n",
    "                'https://codeup.com/competitor-bootcamps-are-closing-is-the-model-in-danger/']\n",
    "\n",
    "# all titles are under jupiterx-post-header (header class)\n",
    "\n",
    "title_finder = 'jupiterx-post-header'\n",
    "\n",
    "# all body text is under jupiterx-post-content (div class)\n",
    "\n",
    "body_finder = 'jupiterx-post-content'\n",
    "\n",
    "articles_list = get_blog_articles(website_list, title_finder, body_finder)"
   ]
  },
  {
   "cell_type": "code",
   "execution_count": 20,
   "id": "96f58942-541e-4c56-be55-4ac2407a2bc5",
   "metadata": {},
   "outputs": [
    {
     "data": {
      "text/html": [
       "<div>\n",
       "<style scoped>\n",
       "    .dataframe tbody tr th:only-of-type {\n",
       "        vertical-align: middle;\n",
       "    }\n",
       "\n",
       "    .dataframe tbody tr th {\n",
       "        vertical-align: top;\n",
       "    }\n",
       "\n",
       "    .dataframe thead th {\n",
       "        text-align: right;\n",
       "    }\n",
       "</style>\n",
       "<table border=\"1\" class=\"dataframe\">\n",
       "  <thead>\n",
       "    <tr style=\"text-align: right;\">\n",
       "      <th></th>\n",
       "      <th>title</th>\n",
       "      <th>content</th>\n",
       "    </tr>\n",
       "  </thead>\n",
       "  <tbody>\n",
       "    <tr>\n",
       "      <th>0</th>\n",
       "      <td>Codeup’s Data Science Career Accelerator is He...</td>\n",
       "      <td>The rumors are true! The time has arrived. Cod...</td>\n",
       "    </tr>\n",
       "    <tr>\n",
       "      <th>1</th>\n",
       "      <td>Data Science Myths - Codeup</td>\n",
       "      <td>By Dimitri Antoniou and Maggie GiustData Scien...</td>\n",
       "    </tr>\n",
       "    <tr>\n",
       "      <th>2</th>\n",
       "      <td>Data Science VS Data Analytics: What’s The Dif...</td>\n",
       "      <td>By Dimitri AntoniouA week ago, Codeuplaunched ...</td>\n",
       "    </tr>\n",
       "    <tr>\n",
       "      <th>3</th>\n",
       "      <td>10 Tips to Crush It at the SA Tech Job Fair - ...</td>\n",
       "      <td>SA Tech Job FairThe third bi-annualSan Antonio...</td>\n",
       "    </tr>\n",
       "    <tr>\n",
       "      <th>4</th>\n",
       "      <td>Competitor Bootcamps Are Closing. Is the Model...</td>\n",
       "      <td>Competitor Bootcamps Are Closing. Is the Model...</td>\n",
       "    </tr>\n",
       "  </tbody>\n",
       "</table>\n",
       "</div>"
      ],
      "text/plain": [
       "                                               title  \\\n",
       "0  Codeup’s Data Science Career Accelerator is He...   \n",
       "1                        Data Science Myths - Codeup   \n",
       "2  Data Science VS Data Analytics: What’s The Dif...   \n",
       "3  10 Tips to Crush It at the SA Tech Job Fair - ...   \n",
       "4  Competitor Bootcamps Are Closing. Is the Model...   \n",
       "\n",
       "                                             content  \n",
       "0  The rumors are true! The time has arrived. Cod...  \n",
       "1  By Dimitri Antoniou and Maggie GiustData Scien...  \n",
       "2  By Dimitri AntoniouA week ago, Codeuplaunched ...  \n",
       "3  SA Tech Job FairThe third bi-annualSan Antonio...  \n",
       "4  Competitor Bootcamps Are Closing. Is the Model...  "
      ]
     },
     "execution_count": 20,
     "metadata": {},
     "output_type": "execute_result"
    }
   ],
   "source": [
    "import pandas as pd\n",
    "pd.DataFrame(articles_list)"
   ]
  },
  {
   "cell_type": "code",
   "execution_count": null,
   "id": "df50d17a-71d9-4b17-a4ad-0b60043746e4",
   "metadata": {},
   "outputs": [],
   "source": []
  },
  {
   "cell_type": "code",
   "execution_count": null,
   "id": "298ec2c3-ef39-423f-a177-a442f8f98927",
   "metadata": {},
   "outputs": [],
   "source": []
  },
  {
   "cell_type": "markdown",
   "id": "7e5deeac-c2ee-42f1-a23a-439d76529a85",
   "metadata": {},
   "source": [
    "### 2. News Articles\n",
    "\n",
    "We will now be scraping text data from inshorts, a website that provides a brief overview of many different topics.\n",
    "\n",
    "Write a function that scrapes the news articles for the following topics:\n",
    "\n",
    "- Business\n",
    "- Sports\n",
    "- Technology\n",
    "- Entertainment\n",
    "The end product of this should be a function named get_news_articles that returns a list of dictionaries, where each dictionary has this shape:\n",
    "```\n",
    "{\n",
    "    'title': 'The article title',\n",
    "    'content': 'The article content',\n",
    "    'category': 'business' # for example\n",
    "}\n",
    "```\n",
    "Hints:\n",
    "\n",
    "- a. Start by inspecting the website in your browser. Figure out which elements will be useful.\n",
    "- b. Start by creating a function that handles a single article and produces a dictionary like the one above.\n",
    "- c. Next create a function that will find all the articles on a single page and call the function you created in the last step for every article on the page.\n",
    "- d. Now create a function that will use the previous two functions to scrape the articles from all the pages that you need, and do any additional processing that needs to be done.\n"
   ]
  },
  {
   "cell_type": "code",
   "execution_count": 21,
   "id": "25829d22-43ea-4159-985a-327e5acb9715",
   "metadata": {},
   "outputs": [],
   "source": [
    "# get response \n",
    "\n",
    "url = 'https://inshorts.com/en/read/'\n",
    "headers = {'User-Agent': 'Codeup Data Science'} \n",
    "response = get(url, headers=headers)"
   ]
  },
  {
   "cell_type": "markdown",
   "id": "d166914f-82bb-423f-bd65-4f9cd37421cb",
   "metadata": {},
   "source": [
    "#### Finders\n",
    "Headline: 'span' itemprop = 'headline'\n",
    "\n",
    "```html\n",
    "<span itemprop=\"headline\">Amazon job posting fuels speculations about plan to accept payments in crypto</span>\n",
    "```\n",
    "\n",
    "Body Text: 'div' itemprop = 'articleBody'\n",
    "\n",
    "```html\n",
    "<div itemprop=\"articleBody\">A new job posting by Amazon has fuelled speculations that the e-commerce major may begin accepting Bitcoin, Ether and other cryptocurrencies as a form of payment. According to the job posting, Amazon's Payments Acceptance &amp; Experience team is hiring a 'Digital Currency and Blockchain Product Lead'. Following the speculations around Amazon's plan, Bitcoin surged near $40,000 on Monday.</div>\n",
    "```"
   ]
  },
  {
   "cell_type": "code",
   "execution_count": 22,
   "id": "f3766a62-6443-4cb7-9265-329e13f52903",
   "metadata": {},
   "outputs": [],
   "source": [
    "soup = BeautifulSoup(response.content)"
   ]
  },
  {
   "cell_type": "code",
   "execution_count": 23,
   "id": "95360c20-df26-4759-9ad7-cee255283d26",
   "metadata": {},
   "outputs": [
    {
     "data": {
      "text/plain": [
       "[<span itemprop=\"headline\">'Were told to delete porn from servers', claim Raj Kundra's employees: Report</span>,\n",
       " <span itemprop=\"headline\">JEE Advanced 2021 exam for admission to IITs to be held on October 3: Govt</span>,\n",
       " <span itemprop=\"headline\">What is India's schedule at Tokyo Olympics for tomorrow?</span>,\n",
       " <span itemprop=\"headline\">You gave your best: PM on Bhavani's 'sorry' tweet after crashing out of Olympics</span>,\n",
       " <span itemprop=\"headline\">Delta COVID-19 variant is now dominant in most European countries: WHO</span>,\n",
       " <span itemprop=\"headline\">I believe in Karma: U'khand CM on shifting to official 'jinxed' residence</span>,\n",
       " <span itemprop=\"headline\">1972 study's prediction of human society's collapse may come true: New research</span>,\n",
       " <span itemprop=\"headline\">China's 23-yr-old TikTok star falls 160 ft from crane to her death during livestream</span>,\n",
       " <span itemprop=\"headline\">UK High Court declares Vijay Mallya 'bankrupt' for Indian banks to realise debt</span>,\n",
       " <span itemprop=\"headline\">Fencer Cheung Ka Long wins Hong Kong's 2nd-ever gold in Olympics history</span>,\n",
       " <span itemprop=\"headline\">Surfing medals to be decided a day early due to typhoon impact in Tokyo</span>,\n",
       " <span itemprop=\"headline\">Bezos offers to waive $2 bn in costs in exchange for NASA contract</span>,\n",
       " <span itemprop=\"headline\">App offers people $25/hour to live stream crime scenes in US: Report</span>,\n",
       " <span itemprop=\"headline\">Yediyurappa resigned in pain, BJP will be washed away in tears: Seer</span>,\n",
       " <span itemprop=\"headline\">US startup that turns people's ashes into diamonds raises $10 mn</span>,\n",
       " <span itemprop=\"headline\">Auto classifieds platform CarTrade gets SEBI nod for ₹2,000 cr IPO</span>,\n",
       " <span itemprop=\"headline\">Over 90,000 posts of soldiers lying vacant in Indian Army: Defence Ministry</span>,\n",
       " <span itemprop=\"headline\">MP levies highest tax on petrol, Rajasthan on diesel: Oil Minister Puri</span>,\n",
       " <span itemprop=\"headline\">Centre introduces bill in Lok Sabha to amend insolvency law</span>,\n",
       " <span itemprop=\"headline\">NCW to launch 24x7 helpline for women facing harassment, violence</span>,\n",
       " <span itemprop=\"headline\">Lebanese lawmakers pick billionaire Najib Mikati as new PM</span>,\n",
       " <span itemprop=\"headline\">Equatorial Guinea to close UK embassy over sanctions against Prez's son</span>,\n",
       " <span itemprop=\"headline\">New Zealand agrees to accept alleged Islamic State militant, 2 kids</span>,\n",
       " <span itemprop=\"headline\">Pakistan plans to refloat ship that ran aground off Karachi</span>,\n",
       " <span itemprop=\"headline\">Yes Bank staying away from lending to COVID-19-hit sectors this fiscal: CEO</span>]"
      ]
     },
     "execution_count": 23,
     "metadata": {},
     "output_type": "execute_result"
    }
   ],
   "source": [
    "soup.find_all('span', itemprop = 'headline')"
   ]
  },
  {
   "cell_type": "code",
   "execution_count": 24,
   "id": "83c56f23-b63d-484c-8816-4c209e2627ec",
   "metadata": {},
   "outputs": [
    {
     "data": {
      "text/plain": [
       "<span itemprop=\"headline\">'Were told to delete porn from servers', claim Raj Kundra's employees: Report</span>"
      ]
     },
     "execution_count": 24,
     "metadata": {},
     "output_type": "execute_result"
    }
   ],
   "source": [
    "soup.find_all('span', itemprop = 'headline')[0]"
   ]
  },
  {
   "cell_type": "code",
   "execution_count": 25,
   "id": "eaea6d6b-913e-49d8-b5fe-750e2827fc39",
   "metadata": {},
   "outputs": [
    {
     "data": {
      "text/plain": [
       "\"'Were told to delete porn from servers', claim Raj Kundra's employees: Report\""
      ]
     },
     "execution_count": 25,
     "metadata": {},
     "output_type": "execute_result"
    }
   ],
   "source": [
    "soup.find_all('span', itemprop = 'headline')[0].get_text()"
   ]
  },
  {
   "cell_type": "code",
   "execution_count": 26,
   "id": "0599e4db-c8da-4f6a-8187-b7492ae16a73",
   "metadata": {},
   "outputs": [
    {
     "data": {
      "text/plain": [
       "\"An employee at Raj Kundra's Viaan Industries has told the police that they were instructed to delete all the pornographic content from their servers, The Indian Express reported citing police sources. The employee said that the instructions came soon after an FIR was registered in February. The police have reportedly added sections of the destruction of evidence against the accused.\""
      ]
     },
     "execution_count": 26,
     "metadata": {},
     "output_type": "execute_result"
    }
   ],
   "source": [
    "soup.find_all('div', itemprop = 'articleBody')[0].get_text()"
   ]
  },
  {
   "cell_type": "code",
   "execution_count": 27,
   "id": "c90958fb-126e-4517-876f-acf1fe7d669a",
   "metadata": {},
   "outputs": [],
   "source": [
    "# set up base url and categories list\n",
    "base_url = 'https://inshorts.com/en/read'\n",
    "categories = ['sports', 'entertainment', 'business', 'technology']"
   ]
  },
  {
   "cell_type": "code",
   "execution_count": 28,
   "id": "f24bda27-e635-4189-9f94-69a7d4ae6ef1",
   "metadata": {},
   "outputs": [
    {
     "data": {
      "text/plain": [
       "'https://inshorts.com/en/read/sports'"
      ]
     },
     "execution_count": 28,
     "metadata": {},
     "output_type": "execute_result"
    }
   ],
   "source": [
    "# figure out how to use the categories to add to base url\n",
    "base_url + '/' + categories[0]"
   ]
  },
  {
   "cell_type": "code",
   "execution_count": 29,
   "id": "bf07a35a-62b4-4415-8406-3938b413b8cb",
   "metadata": {},
   "outputs": [],
   "source": [
    "# make function to create a list of urls \n",
    "# probably could just call this line in the main function but it was fun\n",
    "\n",
    "def create_urls(base_url, categories):\n",
    "    '''\n",
    "    This function takes in a baseurl and list of categories\n",
    "    It will create a new list with the base url a / and each category\n",
    "    \n",
    "    This is for scraping info from the inshorts website\n",
    "    '''\n",
    "    \n",
    "    website_list = [base_url + '/' + category for category in categories]\n",
    "    \n",
    "    return website_list"
   ]
  },
  {
   "cell_type": "code",
   "execution_count": 30,
   "id": "219fd03f-9912-444e-9df8-c70e4aad96ee",
   "metadata": {},
   "outputs": [
    {
     "data": {
      "text/plain": [
       "['https://inshorts.com/en/read/sports',\n",
       " 'https://inshorts.com/en/read/entertainment',\n",
       " 'https://inshorts.com/en/read/business',\n",
       " 'https://inshorts.com/en/read/technology']"
      ]
     },
     "execution_count": 30,
     "metadata": {},
     "output_type": "execute_result"
    }
   ],
   "source": [
    "create_urls(base_url, categories)"
   ]
  },
  {
   "cell_type": "code",
   "execution_count": 33,
   "id": "f4f1779e-2216-4070-ad40-02a11f5c1926",
   "metadata": {},
   "outputs": [],
   "source": [
    "def get_blog_articles2(base_url, categories): # title_finder, body_finder\n",
    "    '''\n",
    "    This function takes in a list of website urls, \n",
    "    the title finder and body finder (must be the same for each article)\n",
    "    And returns a list of dictionaries with title text and body text in dictionaries\n",
    "    Keys in dictionaries are 'title' and 'content'\n",
    "    Returns dataframe of Titles, Articles, and Categories\n",
    "    '''\n",
    "    \n",
    "    # initalize empty list for the dictionaries\n",
    "    article_list = []\n",
    "    \n",
    "    # set up headers\n",
    "    headers = {'User-Agent': 'Codeup Data Science'} \n",
    "    \n",
    "    # create list of websites using the categories\n",
    "    website_list = create_urls(base_url, categories)\n",
    "    \n",
    "    # loop through list of websites and category list\n",
    "    for website, category in zip(website_list, categories): \n",
    "        \n",
    "        # get response\n",
    "        response = get(website, headers=headers)\n",
    "    \n",
    "        # create soup object\n",
    "        soup = BeautifulSoup(response.text)\n",
    "        \n",
    "        # find titles\n",
    "        headlines= soup.find_all('span', itemprop = 'headline')\n",
    "        \n",
    "        # find bodies \n",
    "        bodies = soup.find_all('div', itemprop = 'articleBody')\n",
    "        \n",
    "        # loop through length of headlines (could also be bodies) use index to get text and add to dictionary\n",
    "        for i in range(len(headlines)):\n",
    "            title = headlines[i].get_text()\n",
    "            body = bodies[i].get_text()\n",
    "            \n",
    "            # create dictionary\n",
    "            dictionary = {'title': title,\n",
    "                         'content': body,\n",
    "                         'category': category}\n",
    "            \n",
    "            # add dictionary to list of dictionaries\n",
    "            article_list.append(dictionary)\n",
    "        \n",
    "    return pd.DataFrame(article_list)"
   ]
  },
  {
   "cell_type": "code",
   "execution_count": 34,
   "id": "2e1f97e6-4cee-49ff-9894-fe0a7801b7e3",
   "metadata": {},
   "outputs": [
    {
     "data": {
      "text/html": [
       "<div>\n",
       "<style scoped>\n",
       "    .dataframe tbody tr th:only-of-type {\n",
       "        vertical-align: middle;\n",
       "    }\n",
       "\n",
       "    .dataframe tbody tr th {\n",
       "        vertical-align: top;\n",
       "    }\n",
       "\n",
       "    .dataframe thead th {\n",
       "        text-align: right;\n",
       "    }\n",
       "</style>\n",
       "<table border=\"1\" class=\"dataframe\">\n",
       "  <thead>\n",
       "    <tr style=\"text-align: right;\">\n",
       "      <th></th>\n",
       "      <th>title</th>\n",
       "      <th>content</th>\n",
       "      <th>category</th>\n",
       "    </tr>\n",
       "  </thead>\n",
       "  <tbody>\n",
       "    <tr>\n",
       "      <th>0</th>\n",
       "      <td>How does the medal tally look like after Monda...</td>\n",
       "      <td>China have slipped to third position in medal ...</td>\n",
       "      <td>sports</td>\n",
       "    </tr>\n",
       "    <tr>\n",
       "      <th>1</th>\n",
       "      <td>Manipur govt appoints Mirabai Chanu as Additio...</td>\n",
       "      <td>Manipur government has appointed weightlifter ...</td>\n",
       "      <td>sports</td>\n",
       "    </tr>\n",
       "    <tr>\n",
       "      <th>2</th>\n",
       "      <td>Video going viral with claim that Surya Namask...</td>\n",
       "      <td>A video that has recently gone viral with the ...</td>\n",
       "      <td>sports</td>\n",
       "    </tr>\n",
       "    <tr>\n",
       "      <th>3</th>\n",
       "      <td>You gave your best: PM on Bhavani's 'sorry' tw...</td>\n",
       "      <td>PM Narendra Modi tweeted \"You gave your best a...</td>\n",
       "      <td>sports</td>\n",
       "    </tr>\n",
       "    <tr>\n",
       "      <th>4</th>\n",
       "      <td>India lose 0-2 to Germany in women's hockey at...</td>\n",
       "      <td>India lost 0-2 to Germany in a Pool A women's ...</td>\n",
       "      <td>sports</td>\n",
       "    </tr>\n",
       "    <tr>\n",
       "      <th>...</th>\n",
       "      <td>...</td>\n",
       "      <td>...</td>\n",
       "      <td>...</td>\n",
       "    </tr>\n",
       "    <tr>\n",
       "      <th>92</th>\n",
       "      <td>12-year-old UK boy sells 3,350 NFTs for over $...</td>\n",
       "      <td>Benyamin Ahmed, a 12-year-old boy from UK, sol...</td>\n",
       "      <td>technology</td>\n",
       "    </tr>\n",
       "    <tr>\n",
       "      <th>93</th>\n",
       "      <td>Team Great Britain becomes 1st Olympic team to...</td>\n",
       "      <td>Team Great Britain has become the first Olympi...</td>\n",
       "      <td>technology</td>\n",
       "    </tr>\n",
       "    <tr>\n",
       "      <th>94</th>\n",
       "      <td>Dealing with misinformation is like fighting c...</td>\n",
       "      <td>Facebook CEO Mark Zuckerberg while discussing ...</td>\n",
       "      <td>technology</td>\n",
       "    </tr>\n",
       "    <tr>\n",
       "      <th>95</th>\n",
       "      <td>37.8% of 10-year-olds have Facebook accounts a...</td>\n",
       "      <td>About 37.8% and 24.3% of 10-year-old children ...</td>\n",
       "      <td>technology</td>\n",
       "    </tr>\n",
       "    <tr>\n",
       "      <th>96</th>\n",
       "      <td>Bezos offers to waive $2 bn in costs in exchan...</td>\n",
       "      <td>Blue Origin Founder Jeff Bezos is offering to ...</td>\n",
       "      <td>technology</td>\n",
       "    </tr>\n",
       "  </tbody>\n",
       "</table>\n",
       "<p>97 rows × 3 columns</p>\n",
       "</div>"
      ],
      "text/plain": [
       "                                                title  \\\n",
       "0   How does the medal tally look like after Monda...   \n",
       "1   Manipur govt appoints Mirabai Chanu as Additio...   \n",
       "2   Video going viral with claim that Surya Namask...   \n",
       "3   You gave your best: PM on Bhavani's 'sorry' tw...   \n",
       "4   India lose 0-2 to Germany in women's hockey at...   \n",
       "..                                                ...   \n",
       "92  12-year-old UK boy sells 3,350 NFTs for over $...   \n",
       "93  Team Great Britain becomes 1st Olympic team to...   \n",
       "94  Dealing with misinformation is like fighting c...   \n",
       "95  37.8% of 10-year-olds have Facebook accounts a...   \n",
       "96  Bezos offers to waive $2 bn in costs in exchan...   \n",
       "\n",
       "                                              content    category  \n",
       "0   China have slipped to third position in medal ...      sports  \n",
       "1   Manipur government has appointed weightlifter ...      sports  \n",
       "2   A video that has recently gone viral with the ...      sports  \n",
       "3   PM Narendra Modi tweeted \"You gave your best a...      sports  \n",
       "4   India lost 0-2 to Germany in a Pool A women's ...      sports  \n",
       "..                                                ...         ...  \n",
       "92  Benyamin Ahmed, a 12-year-old boy from UK, sol...  technology  \n",
       "93  Team Great Britain has become the first Olympi...  technology  \n",
       "94  Facebook CEO Mark Zuckerberg while discussing ...  technology  \n",
       "95  About 37.8% and 24.3% of 10-year-old children ...  technology  \n",
       "96  Blue Origin Founder Jeff Bezos is offering to ...  technology  \n",
       "\n",
       "[97 rows x 3 columns]"
      ]
     },
     "execution_count": 34,
     "metadata": {},
     "output_type": "execute_result"
    }
   ],
   "source": [
    "# set up base url and categories list\n",
    "base_url = 'https://inshorts.com/en/read'\n",
    "categories = ['sports', 'entertainment', 'business', 'technology']\n",
    "\n",
    "# test function\n",
    "get_blog_articles2(base_url, categories)"
   ]
  },
  {
   "cell_type": "code",
   "execution_count": null,
   "id": "569f1f76-69f6-4ebe-8c50-a1a773c80ca3",
   "metadata": {},
   "outputs": [],
   "source": []
  }
 ],
 "metadata": {
  "kernelspec": {
   "display_name": "Python 3",
   "language": "python",
   "name": "python3"
  },
  "language_info": {
   "codemirror_mode": {
    "name": "ipython",
    "version": 3
   },
   "file_extension": ".py",
   "mimetype": "text/x-python",
   "name": "python",
   "nbconvert_exporter": "python",
   "pygments_lexer": "ipython3",
   "version": "3.8.5"
  }
 },
 "nbformat": 4,
 "nbformat_minor": 5
}
