{
 "cells": [
  {
   "cell_type": "markdown",
   "id": "850c5ab7-455b-4500-82fa-69db7b9fbb73",
   "metadata": {},
   "source": [
    "# Regex Exercises \n",
    "Do your work for this exercise in a file named regex.\n",
    "\n",
    "1. Write a function named is_vowel. It should accept a string as input and use a regular expression to determine if the passed string is a vowel. While not explicity mentioned in the lesson, you can treat the result of re.search as a boolean value that indicates whether or not the regular expression matches the given string.\n",
    "\n",
    "2. Write a function named is_valid_username that accepts a string as input. A valid username starts with a lowercase letter, and only consists of lowercase letters, numbers, or the _ character. It should also be no longer than 32 characters. The function should return either True or False depending on whether the passed string is a valid username.\n",
    "\n",
    "```python\n",
    ">>> is_valid_username('aaaaaaaaaaaaaaaaaaaaaaaaaaaaaaaaa')\n",
    "False\n",
    ">>> is_valid_username('codeup')\n",
    "True\n",
    ">>> is_valid_username('Codeup')\n",
    "False\n",
    ">>> is_valid_username('codeup123')\n",
    "True\n",
    ">>> is_valid_username('1codeup')\n",
    "False\n",
    "```\n",
    "3. Write a regular expression to capture phone numbers. It should match all of the following:\n",
    "\n",
    "\n",
    "```\n",
    "(210) 867 5309\n",
    "+1 210.867.5309\n",
    "867-5309\n",
    "210-867-5309\n",
    "```\n",
    "\n",
    "4. Use regular expressions to convert the dates below to the standardized year-month-day format.\n",
    "\n",
    "```\n",
    "02/04/19\n",
    "02/05/19\n",
    "02/06/19\n",
    "02/07/19\n",
    "02/08/19\n",
    "02/09/19\n",
    "02/10/19\n",
    "```\n",
    "\n",
    "5. Write a regex to extract the various parts of these logfile lines:\n",
    "\n",
    "\n",
    "```GET /api/v1/sales?page=86 [16/Apr/2019:193452+0000] HTTP/1.1 {200} 510348 \"python-requests/2.21.0\" 97.105.19.58\n",
    "POST /users_accounts/file-upload [16/Apr/2019:193452+0000] HTTP/1.1 {201} 42 \"User-Agent: Mozilla/5.0 (X11; Fedora; Fedora; Linux x86_64) AppleWebKit/537.36 (KHTML, like Gecko) Chrome/73.0.3683.86 Safari/537.36\" 97.105.19.58\n",
    "GET /api/v1/items?page=3 [16/Apr/2019:193453+0000] HTTP/1.1 {429} 3561 \"\n",
    "```"
   ]
  },
  {
   "cell_type": "code",
   "execution_count": 1,
   "id": "f2ce2164-8a4f-408f-9087-7ec498eba664",
   "metadata": {},
   "outputs": [],
   "source": [
    "import pandas\n",
    "import re"
   ]
  },
  {
   "cell_type": "markdown",
   "id": "9d1127f3-9485-4d82-b5ea-66e2667329de",
   "metadata": {},
   "source": [
    "1. Write a function named is_vowel. It should accept a string as input and use a regular expression to determine if the passed string is a vowel. While not explicity mentioned in the lesson, you can treat the result of re.search as a boolean value that indicates whether or not the regular expression matches the given string."
   ]
  },
  {
   "cell_type": "code",
   "execution_count": 11,
   "id": "f69985bc-3b1a-49be-92cb-b53a1bba50a1",
   "metadata": {},
   "outputs": [],
   "source": [
    "def is_vowel(string):\n",
    "    \n",
    "    if string in r'[aeiouAEIOU]':\n",
    "        return True\n",
    "    else:\n",
    "        return False"
   ]
  },
  {
   "cell_type": "code",
   "execution_count": 14,
   "id": "935d646b-750d-4d14-b48d-6ddba4d2aa1f",
   "metadata": {},
   "outputs": [
    {
     "data": {
      "text/plain": [
       "True"
      ]
     },
     "execution_count": 14,
     "metadata": {},
     "output_type": "execute_result"
    }
   ],
   "source": [
    "is_vowel('E')"
   ]
  },
  {
   "cell_type": "code",
   "execution_count": 15,
   "id": "2ff86f2d-bd88-4c22-9b61-d5da779f3784",
   "metadata": {},
   "outputs": [
    {
     "data": {
      "text/plain": [
       "False"
      ]
     },
     "execution_count": 15,
     "metadata": {},
     "output_type": "execute_result"
    }
   ],
   "source": [
    "is_vowel('t')"
   ]
  },
  {
   "cell_type": "markdown",
   "id": "e2c511aa-c253-4834-9709-04baab12b675",
   "metadata": {},
   "source": [
    "2. Write a function named is_valid_username that accepts a string as input. A valid username starts with a lowercase letter, and only consists of lowercase letters, numbers, or the _ character. It should also be no longer than 32 characters. The function should return either True or False depending on whether the passed string is a valid username.\n",
    "\n",
    "```python\n",
    ">>> is_valid_username('aaaaaaaaaaaaaaaaaaaaaaaaaaaaaaaaa')\n",
    "False\n",
    ">>> is_valid_username('codeup')\n",
    "True\n",
    ">>> is_valid_username('Codeup')\n",
    "False\n",
    ">>> is_valid_username('codeup123')\n",
    "True\n",
    ">>> is_valid_username('1codeup')\n",
    "False\n",
    "```"
   ]
  },
  {
   "cell_type": "code",
   "execution_count": 66,
   "id": "983d6361-a959-4265-9765-ab24faf771d0",
   "metadata": {},
   "outputs": [],
   "source": [
    "def is_valid_username(string):\n",
    "    regex = r'^[a-z]\\w{1,31}$'\n",
    "    \n",
    "    if re.search(regex, string):\n",
    "        return True\n",
    "    else:\n",
    "        return False\n"
   ]
  },
  {
   "cell_type": "code",
   "execution_count": 67,
   "id": "72cba30f-b427-420e-99a3-f1d0a2cfb9eb",
   "metadata": {},
   "outputs": [
    {
     "data": {
      "text/plain": [
       "False"
      ]
     },
     "execution_count": 67,
     "metadata": {},
     "output_type": "execute_result"
    }
   ],
   "source": [
    "is_valid_username('aaaaaaaaaaaaaaaaaaaaaaaaaaaaaaaaa')"
   ]
  },
  {
   "cell_type": "markdown",
   "id": "aa80b3aa-c5b3-4e44-b4a7-1db104d3277c",
   "metadata": {},
   "source": [
    "3. Write a regular expression to capture phone numbers. It should match all of the following:\n",
    "\n",
    "\n",
    "```\n",
    "(210) 867 5309\n",
    "+1 210.867.5309\n",
    "867-5309\n",
    "210-867-5309\n",
    "```\n"
   ]
  },
  {
   "cell_type": "code",
   "execution_count": 82,
   "id": "468c7e31-1cc4-4f54-9cb2-dc7bf6410a82",
   "metadata": {},
   "outputs": [
    {
     "data": {
      "text/plain": [
       "<re.Match object; span=(0, 15), match='+1 210.867.5309'>"
      ]
     },
     "execution_count": 82,
     "metadata": {},
     "output_type": "execute_result"
    }
   ],
   "source": [
    "number = '+1 210.867.5309'\n",
    "\n",
    "regex = '\\D?(\\d)?\\D?(\\d{3})?\\D*(\\d{3})\\D*(\\d{4})'\n",
    "\n",
    "re.search(regex, number)"
   ]
  },
  {
   "cell_type": "code",
   "execution_count": 83,
   "id": "6dd346c1-8fe4-433f-b937-b8d7ebb603b9",
   "metadata": {},
   "outputs": [
    {
     "data": {
      "text/plain": [
       "<re.Match object; span=(0, 8), match='867-5309'>"
      ]
     },
     "execution_count": 83,
     "metadata": {},
     "output_type": "execute_result"
    }
   ],
   "source": [
    "number = '867-5309'\n",
    "\n",
    "regex = '\\D?(\\d)?\\D?(\\d{3})?\\D*(\\d{3})\\D*(\\d{4})'\n",
    "\n",
    "re.search(regex, number)"
   ]
  },
  {
   "cell_type": "markdown",
   "id": "2ad7d89a-5a4b-499b-b5f7-be702b57fcbc",
   "metadata": {},
   "source": [
    "4. Use regular expressions to convert the dates below to the standardized year-month-day format.\n",
    "\n",
    "```\n",
    "02/04/19\n",
    "02/05/19\n",
    "02/06/19\n",
    "02/07/19\n",
    "02/08/19\n",
    "02/09/19\n",
    "02/10/19\n",
    "```"
   ]
  },
  {
   "cell_type": "code",
   "execution_count": 84,
   "id": "e48f4d6f-57ff-4f44-96e1-8fbcf895bc9a",
   "metadata": {},
   "outputs": [],
   "source": [
    "# Put dates in a list\n",
    "# day/month/year\n",
    "dates = ['02/04/19', '02/05/19', '02/06/19', '02/07/19', '02/08/19', '02/09/19', '02/10/19']"
   ]
  },
  {
   "cell_type": "code",
   "execution_count": 88,
   "id": "47701c0e-0a57-4c9d-80ef-6db06caf3b10",
   "metadata": {},
   "outputs": [
    {
     "name": "stdout",
     "output_type": "stream",
     "text": [
      "19/04/02\n",
      "19/05/02\n",
      "19/06/02\n",
      "19/07/02\n",
      "19/08/02\n",
      "19/09/02\n",
      "19/10/02\n"
     ]
    }
   ],
   "source": [
    "regexp = r'(\\d+)/(\\d+)/(\\d+)'\n",
    "\n",
    "for date in dates:\n",
    "    #re.search(regexp, date)\n",
    "    print(re.sub(regexp, r'\\3/\\2/\\1', date))"
   ]
  },
  {
   "cell_type": "markdown",
   "id": "4f6afdd8-d8be-41a4-9d76-256b53271ba8",
   "metadata": {},
   "source": [
    "5. Write a regex to extract the various parts of these logfile lines:\n",
    "\n",
    "\n",
    "```\n",
    "GET /api/v1/sales?page=86 [16/Apr/2019:193452+0000] HTTP/1.1 {200} 510348 \"python-requests/2.21.0\" 97.105.19.58\n",
    "\n",
    "POST /users_accounts/file-upload [16/Apr/2019:193452+0000] HTTP/1.1 {201} 42 \"User-Agent: Mozilla/5.0 (X11; Fedora; Fedora; Linux x86_64) AppleWebKit/537.36 (KHTML, like Gecko) Chrome/73.0.3683.86 Safari/537.36\" 97.105.19.58\n",
    "\n",
    "GET /api/v1/items?page=3 [16/Apr/2019:193453+0000] HTTP/1.1 {429} 3561 \"python-requests/2.21.0\" 97.105.19.58 \"\n",
    "```\n",
    "\n",
    "Endpoint | timestamp | Protocol | Status | Size | Request Agent | ip_address"
   ]
  },
  {
   "cell_type": "code",
   "execution_count": 166,
   "id": "3d3720ad-ec51-4fa8-8d3e-fab4eae7e806",
   "metadata": {},
   "outputs": [
    {
     "data": {
      "text/plain": [
       "[('GET',\n",
       "  '/api/v1/items?page=3',\n",
       "  '[16/Apr/2019:193453+0000]',\n",
       "  'HTTP/1.1',\n",
       "  '429',\n",
       "  '3561',\n",
       "  'python-requests/2.21.0',\n",
       "  '97.105.19.58')]"
      ]
     },
     "execution_count": 166,
     "metadata": {},
     "output_type": "execute_result"
    }
   ],
   "source": [
    "logline = 'GET /api/v1/items?page=3 [16/Apr/2019:193453+0000] HTTP/1.1 {429} 3561 \"python-requests/2.21.0\" 97.105.19.58'\n",
    "\n",
    "\n",
    "regex = r'''\n",
    "(^[A-Z]*)\\s\n",
    "(/\\S*)\\s\n",
    "(\\[\\S+\\])\\s\n",
    "([A-Z]*\\/\\d.\\d)\\s\n",
    "\\{(\\d{3})\\}\\s\n",
    "(\\d+)\\s\n",
    "\\\"(.+)\\\"\\s\n",
    "(\\d+.\\d+.\\d+.\\d+)\n",
    "'''\n",
    "\n",
    "re.findall(regex, logline, re.VERBOSE)"
   ]
  },
  {
   "cell_type": "code",
   "execution_count": 165,
   "id": "9f7f7325-8d6f-45b2-b86c-7382484c9da6",
   "metadata": {},
   "outputs": [
    {
     "data": {
      "text/plain": [
       "[('GET',\n",
       "  '/api/v1/items?page=3',\n",
       "  '[16/Apr/2019:193453+0000]',\n",
       "  'HTTP/1.1',\n",
       "  '429',\n",
       "  '3561',\n",
       "  '',\n",
       "  '',\n",
       "  '')]"
      ]
     },
     "execution_count": 165,
     "metadata": {},
     "output_type": "execute_result"
    }
   ],
   "source": [
    "logline = 'GET /api/v1/items?page=3 [16/Apr/2019:193453+0000] HTTP/1.1 {429} 3561'\n",
    "\n",
    "\n",
    "regex = r'''\n",
    "(^[A-Z]*)\\s\n",
    "(/\\S*)\\s\n",
    "(\\[\\S+\\])\\s\n",
    "([A-Z]*\\/\\d.\\d)\\s\n",
    "\\{(\\d{3})\\}\\s\n",
    "(\\d+)(\\s\n",
    "\\\"(.+)\\\"\\s\n",
    "(\\d+.\\d+.\\d+.\\d+))?\n",
    "'''\n",
    "\n",
    "# created optional last few arguements with ()? outside it\n",
    "\n",
    "re.findall(regex, logline, re.VERBOSE)"
   ]
  },
  {
   "cell_type": "code",
   "execution_count": 167,
   "id": "b7b7b090-956b-4323-a923-2902a128c69b",
   "metadata": {},
   "outputs": [
    {
     "data": {
      "text/plain": [
       "{'http_method': 'GET',\n",
       " 'endpoint': '/api/v1/items?page=3',\n",
       " 'timestamp': '[16/Apr/2019:193453+0000]',\n",
       " 'protocol': 'HTTP/1.1',\n",
       " 'status': '429',\n",
       " 'size': '3561',\n",
       " 'request_agent': 'python-requests/2.21.0',\n",
       " 'ip_address': '97.105.19.58'}"
      ]
     },
     "execution_count": 167,
     "metadata": {},
     "output_type": "execute_result"
    }
   ],
   "source": [
    "regex = r'''\n",
    "(?P<http_method>^[A-Z]*)\\s\n",
    "(?P<endpoint>/\\S*)\\s\n",
    "(?P<timestamp>\\[\\S+\\])\\s\n",
    "(?P<protocol>[A-Z]*\\/\\d.\\d)\\s\n",
    "\\{(?P<status>\\d{3})\\}\\s\n",
    "(?P<size>\\d+)\\s\n",
    "\\\"(?P<request_agent>.+)\\\"\\s\n",
    "(?P<ip_address>\\d+.\\d+.\\d+.\\d+)?\n",
    "'''\n",
    "\n",
    "match = re.search(regex, logline, re.VERBOSE) # whitespace in the regex is ignored\n",
    "match.groupdict()"
   ]
  },
  {
   "cell_type": "code",
   "execution_count": null,
   "id": "0d2fd378-8dfc-4c3f-8335-0e3c7c472031",
   "metadata": {},
   "outputs": [],
   "source": []
  }
 ],
 "metadata": {
  "kernelspec": {
   "display_name": "Python 3",
   "language": "python",
   "name": "python3"
  },
  "language_info": {
   "codemirror_mode": {
    "name": "ipython",
    "version": 3
   },
   "file_extension": ".py",
   "mimetype": "text/x-python",
   "name": "python",
   "nbconvert_exporter": "python",
   "pygments_lexer": "ipython3",
   "version": "3.8.5"
  }
 },
 "nbformat": 4,
 "nbformat_minor": 5
}
