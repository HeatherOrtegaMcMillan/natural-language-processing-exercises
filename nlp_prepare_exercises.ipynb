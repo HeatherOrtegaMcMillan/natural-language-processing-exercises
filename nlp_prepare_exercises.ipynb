{
 "cells": [
  {
   "cell_type": "markdown",
   "id": "f793e9af-d186-4340-b481-e7bdbfd5289f",
   "metadata": {},
   "source": [
    "# NLP Prepare Exercises\n",
    "The end result of this exercise should be a file named prepare.py that defines the requested functions.\n",
    "\n",
    "In this exercise we will be defining some functions to prepare textual data. These functions should apply equally well to both the codeup blog articles and the news articles that were previously acquired.\n"
   ]
  },
  {
   "cell_type": "code",
   "execution_count": 1,
   "id": "19d3a0f8-d6c2-4613-afaf-98caac41cc3e",
   "metadata": {},
   "outputs": [],
   "source": [
    "import unicodedata\n",
    "import re\n",
    "import json\n",
    "\n",
    "import nltk\n",
    "from nltk.tokenize.toktok import ToktokTokenizer\n",
    "from nltk.corpus import stopwords\n",
    "\n",
    "import pandas as pd\n",
    "\n",
    "import acquire"
   ]
  },
  {
   "cell_type": "markdown",
   "id": "47d5d7af-a4dd-4721-8bee-4e08569d591a",
   "metadata": {},
   "source": [
    "1. Define a function named basic_clean. It should take in a string and apply some basic text cleaning to it:\n",
    "    - Lowercase everything\n",
    "    - Normalize unicode characters\n",
    "    - Replace anything that is not a letter, number, whitespace or a single quote."
   ]
  },
  {
   "cell_type": "code",
   "execution_count": 2,
   "id": "d9e207ee-49ba-489a-a07e-64dd99668570",
   "metadata": {},
   "outputs": [],
   "source": [
    "# get data \n",
    "\n",
    "df = acquire.get_blog_articles()"
   ]
  },
  {
   "cell_type": "code",
   "execution_count": 3,
   "id": "ba311ce1-c232-40b8-9ab1-ce06ed103f3d",
   "metadata": {},
   "outputs": [
    {
     "data": {
      "text/html": [
       "<div>\n",
       "<style scoped>\n",
       "    .dataframe tbody tr th:only-of-type {\n",
       "        vertical-align: middle;\n",
       "    }\n",
       "\n",
       "    .dataframe tbody tr th {\n",
       "        vertical-align: top;\n",
       "    }\n",
       "\n",
       "    .dataframe thead th {\n",
       "        text-align: right;\n",
       "    }\n",
       "</style>\n",
       "<table border=\"1\" class=\"dataframe\">\n",
       "  <thead>\n",
       "    <tr style=\"text-align: right;\">\n",
       "      <th></th>\n",
       "      <th>title</th>\n",
       "      <th>content</th>\n",
       "    </tr>\n",
       "  </thead>\n",
       "  <tbody>\n",
       "    <tr>\n",
       "      <th>0</th>\n",
       "      <td>Codeup’s Data Science Career Accelerator is He...</td>\n",
       "      <td>The rumors are true! The time has arrived. Cod...</td>\n",
       "    </tr>\n",
       "    <tr>\n",
       "      <th>1</th>\n",
       "      <td>Data Science Myths - Codeup</td>\n",
       "      <td>By Dimitri Antoniou and Maggie GiustData Scien...</td>\n",
       "    </tr>\n",
       "    <tr>\n",
       "      <th>2</th>\n",
       "      <td>Data Science VS Data Analytics: What’s The Dif...</td>\n",
       "      <td>By Dimitri AntoniouA week ago, Codeuplaunched ...</td>\n",
       "    </tr>\n",
       "    <tr>\n",
       "      <th>3</th>\n",
       "      <td>10 Tips to Crush It at the SA Tech Job Fair - ...</td>\n",
       "      <td>SA Tech Job FairThe third bi-annualSan Antonio...</td>\n",
       "    </tr>\n",
       "    <tr>\n",
       "      <th>4</th>\n",
       "      <td>Competitor Bootcamps Are Closing. Is the Model...</td>\n",
       "      <td>Competitor Bootcamps Are Closing. Is the Model...</td>\n",
       "    </tr>\n",
       "  </tbody>\n",
       "</table>\n",
       "</div>"
      ],
      "text/plain": [
       "                                               title  \\\n",
       "0  Codeup’s Data Science Career Accelerator is He...   \n",
       "1                        Data Science Myths - Codeup   \n",
       "2  Data Science VS Data Analytics: What’s The Dif...   \n",
       "3  10 Tips to Crush It at the SA Tech Job Fair - ...   \n",
       "4  Competitor Bootcamps Are Closing. Is the Model...   \n",
       "\n",
       "                                             content  \n",
       "0  The rumors are true! The time has arrived. Cod...  \n",
       "1  By Dimitri Antoniou and Maggie GiustData Scien...  \n",
       "2  By Dimitri AntoniouA week ago, Codeuplaunched ...  \n",
       "3  SA Tech Job FairThe third bi-annualSan Antonio...  \n",
       "4  Competitor Bootcamps Are Closing. Is the Model...  "
      ]
     },
     "execution_count": 3,
     "metadata": {},
     "output_type": "execute_result"
    }
   ],
   "source": [
    "df"
   ]
  },
  {
   "cell_type": "code",
   "execution_count": 4,
   "id": "8e40a5a2-72f2-4e1f-aaa2-1f9e4b80a9e5",
   "metadata": {},
   "outputs": [
    {
     "name": "stdout",
     "output_type": "stream",
     "text": [
      "0    codeup’s data science career accelerator is he...\n",
      "1                          data science myths - codeup\n",
      "2    data science vs data analytics: what’s the dif...\n",
      "3    10 tips to crush it at the sa tech job fair - ...\n",
      "4    competitor bootcamps are closing. is the model...\n",
      "Name: title, dtype: object\n",
      "0    the rumors are true! the time has arrived. cod...\n",
      "1    by dimitri antoniou and maggie giustdata scien...\n",
      "2    by dimitri antonioua week ago, codeuplaunched ...\n",
      "3    sa tech job fairthe third bi-annualsan antonio...\n",
      "4    competitor bootcamps are closing. is the model...\n",
      "Name: content, dtype: object\n"
     ]
    }
   ],
   "source": [
    "for col in list(df):\n",
    "    print(df[col].str.lower())"
   ]
  },
  {
   "cell_type": "code",
   "execution_count": 5,
   "id": "bd8357b2-a809-44ec-9577-22ebb07d228f",
   "metadata": {},
   "outputs": [
    {
     "name": "stdout",
     "output_type": "stream",
     "text": [
      "Codeups Data Science Career Accelerator is Here! - Codeup\n",
      "Data Science Myths - Codeup\n",
      "Data Science VS Data Analytics: Whats The Difference? - Codeup\n",
      "10 Tips to Crush It at the SA Tech Job Fair - Codeup\n",
      "Competitor Bootcamps Are Closing. Is the Model in Danger? - Codeup\n",
      "The rumors are true! The time has arrived. Codeup has officially opened applications to our new Data Science career accelerator, with only 25 seats available! This immersive program is one of a kind in San Antonio, and will help you land a job inGlassdoors #1 Best Job in America.Data Science is a method of providing actionable intelligence from data.The data revolution has hit San Antonio,resulting in an explosion in Data Scientist positionsacross companies like USAA, Accenture, Booz Allen Hamilton, and HEB. Weve even seenUTSA invest $70 M for a Cybersecurity Center and School of Data Science.We built a program to specifically meet the growing demands of this industry.Our program will be 18 weeks long, full-time, hands-on, and project-based. Our curriculum development and instruction is led by Senior Data Scientist, Maggie Giust, who has worked at HEB, Capital Group, and Rackspace, along with input from dozens of practitioners and hiring partners. Students will work with real data sets, realistic problems, and the entire data science pipeline from collection to deployment. They will receive professional development training in resume writing, interviewing, and continuing education to prepare for a smooth transition to the workforce.We focus on applied data science for immediate impact and ROI in a business, which is how we can back it all up with a 6 month tuition refund guarantee  just like our existing Web Dev program. Were focusing on Data Science with Python, SQL, and ML, covered in14 modules: 1) Fundamentals; 2) Applied statistics; 3) SQL; 4) Python; 5) Supervised machine learning  regression; 6) Supervised machine learning  classification; 7) Unsupervised machine learning  clustering; 8) Time series analysis; 9) Anomaly detection; 10) Natural language processing; 11) Distributed machine learning; 12) Advanced topics (deep learning, NoSQL, cloud deployment, etc.); 13) Storytelling with data; and 14) Domain expertise development.Applications are now openfor Codeups first Data Science cohort, which will start class on February 4, 2019. Hurry  there are only 25 seats available! To further our mission of cultivating inclusive growth, scholarships will be available to women, minorities, LGBTQIA+ individuals, veterans, first responders, and people relocating to San Antonio.If you want to learn aboutjoining our programorhiring our graduates, email datascience@codeup.com!\n",
      "By Dimitri Antoniou and Maggie GiustData Science, Big Data, Machine Learning, NLP, Neural Networks...these buzzwords have rapidly spread into mainstream use over the last few years. Unfortunately, definitions are varied and sources of truth are limited. Data Scientists are in factnotmagical unicorn wizards who can snap their fingers and turn a business around!Today, well take a cue from our favorite Mythbusters to tackle some common myths and misconceptions in the field of Data Science.Myth #1: Data Science = StatisticsAt first glance, this one doesnt sound unreasonable. Statistics is defined as, A branch of mathematics dealing with the collection, analysis, interpretation, and presentation of masses of numerical data. That sounds a lot likeour definition of Data Science: a method of drawing actionable intelligence from data.In truth, statistics is actually one small piece of Data Science. As our Senior Data Scientist puts it, Statistics forces us to make assumptions about the nature of the relationship between variables, the distribution of the data, etc.In the traditional Data Science venn diagram, youll see that math/stats make up 13 of a working professional. These are tools and skills to leverage, but data science itself is about drawing intelligence from data.BUSTEDvia GIPHYMyth #2: Data Scientist = Business/Data AnalystThis one is so common that we wrote a whole post about it!These are separate and different roles within the data field. While a data scientist will often do analytics, their spectrum of work is wider. A data analyst will use structured data to create dashboards and KPIs, while a Data Scientist deals with unstructured and messy data for a range of outputs. If theyre interested, business analysts will often progress to data scientists.BUSTEDvia GIPHYMyth #3: Data Science = Data ScienceThis ones tricky, because its impossible to either confirm or bust! The myth is that one person or company using the term Data Science is not necessarily the same asanotherperson or company using the same term. Depending on organizational capacity, individual experience, educational background, and many other variables, we might be using the same name for different animals.Tl;dr: dont assume a common understanding across hiring managers, recruiters, and practitioners. Look instead for specifics of tools, techniques, methodologies, and outputs. That being said, this one falls in the plausible category, because it may actually be true in some circumstances, while false in others.PLAUSIBLEvia GIPHYMyth #4: Data Science curricula are well-defined and consistent.We recommend checking this one out for yourself! A quick google search for bootcamps, masters degree programs, and online courses will reveal that different organizations teach different things. There is no commonly accepted framework for teaching data science! Some focus more on the engineering, others focus more on machine learning, some think deep learning is foundational, and some prefer to use R.Our curriculum was built through employer interviews, practitioner interviews, market research, and company partnerships. But were based in Texas! A bootcamp in New York might follow the same process and end up with a different syllabus. Keep in mind, whatever your learning path, that there will be gaps in your learning. The most important thing is to recognize those gaps.BUSTEDvia GIPHYMyth #5: If I want to be a data scientist, I just need to learn Python or R.This one is common and dangerous! Just like statistics, programming languages like Python and R aretools. Theyre just pieces of a larger puzzle! Knowing Python without understanding the data science pipeline is like knowing how to build a floor without having a floor plan. Of course, these are valuable technical skills that give you a leg up, but theyre second in importance to asking the right questions, knowing what tools to use when, and communicating your findings.BUSTEDvia GIPHYStill have questions?Reach out to us!Were always here to help.\n",
      "By Dimitri AntoniouA week ago, Codeuplaunched our immersive Data Science career accelerator! With our first-class kicking off in February and only 25 seats available, weve been answering a lot of questions from prospective students. One, in particular, has come up so many times we decided to dedicate a blog post to it.What is the difference between data science and data analytics?First, lets define some of our terms! Take a look atthis blogto understand what Data Science is. In short, it is a method of turning raw data into action, leading to the desired outcome. Big Data refers to data sets that are large and complex, usually exceeding the capacity of computers and normal processing power to deal with.Machine Learning is the process of learning underlying patterns of data in order to automate the extraction of intelligence from that data.Now, lets look at the data pipeline that data scientists work through to reach the actionable insights and outcomes we mentioned:We start by collectingdata, which may come from social media channels, network logs, financials, employee records, or more.We then process that data into usableinformationstored in databases or streamed.Next, we look back on the history of that data to summarize, describe, and explain, turning the data into meaningfulknowledge. Here were primarily using mathematics, statistics, and visualization methods.Now we convert that knowledge intointelligence, seeking to predict future events so that we can make decisions in the present. This is where practitioners will introduce mathematical/statistical modeling through machine learning to their data.Finally, we enableactionby building automations, running tests, building visualizations, monitoring new data, etc.Data professionals work at different stages of the spectrum to move data through the pipeline. On the left, Big Data Engineers specialize in collecting, storing, and processing data, getting it from Data to Information. In the middle, analysts work to understand and convert that information to knowledge. Lastly, a Machine Learning Engineer utilizes machine learning algorithms to turn intelligence into action by building automations, visualizations, recommendations, and predictions.Data Scientists span multiple stages of this pipeline, from information to action. They will spend about 70% of their time wrangling data in the information stage. They will conduct a statistical analysis to derive knowledge. Lastly, they predict future events and build automations using machine learning.For those technical folk out there, data science is to data engineering or machine learning engineering as full-stack development is to front-end or back-end development. For the non-technical folk, data science is the umbrella term that houses data analytics, machine learning, and other data professions.So whats the biggest difference between a data analyst and a data scientist?Data scientists utilize computer programming and machine learning in addition to mathematics and statistics.Still have questions?Reach out to us.Wondering which of Codeups programs is right for you?Weve got you covered. And of course, if data science gets you excited,get started with us today!\n",
      "SA Tech Job FairThe third bi-annualSan Antonio Tech Job Fairis just around the corner.Over 25 companies will be at The Jack Guenther Pavilion on April 10th, and they are hungry for new tech team members!At the job fair, companies want to quickly source a list of new talent leads. AKA they need to find qualified employees they can begin interviewing for jobs. Recruiters will represent their organization at tables with informational handouts and company swag.Your goal at a job fair is to set yourself apart from other candidates and ensure your name makes it to the top of those lead lists.Think of your interaction with the company as a mini screening interview. The company rep will subtly evaluate basic qualities like your professionalism, communication and interpersonal skills, work experience, and interest level in the organization. Job fairs are also an opportunity for you to gain information about companies that may not be easily accessible online.AtCodeup, were passionate about bridging the gap between talent and demand, so weve outlined 10 tips to ensure you bring your A-game and leave a lasting impression!10 Tips for Totally Crushing it at the SA Tech Job FairUse keywords to describe your skills, but dont go overboard.Youll probably be talking to a recruiter or talent acquisition specialist. As a technical candidate, recognize these individuals usually arent developers or network administrators. They know terms like JavaScript and Apache, but havent written a line of code or spun up a server, so dont get too caught up in industry jargon.Research the companies ahead of time.Review the list of attending companies and make sure you know what the company does and whether or not they hire people in your desired role. Look up recent news on the company and mention it during your conversation.Define your own goals for the job fair. Are you searching for a specific type of role or company culture? What matters most in your job search? Are there companies you want to prioritize?  Develop a game plan and be intentional with your time.Prepare a stellar resume.Bring about 20 copies of your resume to the event, printed on nice paper. We wont cover resume writing in this post, but there are a plethora of online resources you can consult. For job fairs, dont worry about cover letters.Polish your online profiles.If recruiters have a copy of your resume, you can be sure they will stalk you online soon. Make sure your online presence is professional and appropriate. A good place to start is by Googling yourself. Update your LinkedIn, and clean up any social media profiles.Craft a 30-60 second elevator pitch.You may only have a few minutes with an employer. What will you say if they ask, Tell me about yourself? Consider structuring your pitch like this: Who you are + What you do + What your goals are + Why that matters to the company.Dont show up in a t-shirt, but trade in your suit for something more chill.Always keep it professional, but remember: tech is typically more casual than other industries. Youll likely feel out of place if you look like you belong on Wall St., so refer to this guide ondressing for tech interviews.Dont forget the basics.Start and end each conversation with a firm handshake. Make eye contact while conversing. Smile! Thank the recruiter before you move on to the next table.Ask educated questions. Dont waste valuable face time with recruiters by asking questions like, What does [Insert Company here] do? They hate that question! Instead, try some of these:What are the top 3-5 examples of knowledge, skills, and abilities you look for in candidates?Whats the best advice you have for someone who wants to work here?What is your interview process like?Are you hiring for any roles not currently listed on your websites?Follow up.Collect business cards from each table. The next day, send a short note expressing your interest in the companys opportunities and thanking the recruiter for his or her time.RSVPfor the SA Tech Job Fair taking place at the Jack Guenther Pavilion  September 18th starting at 4 pm.\n",
      "Competitor Bootcamps Are Closing. Is the Model in Danger?Is the programming bootcamp model in danger?In recent news, DevBootcamp and The Iron Yard announced that they are closing their doors. This is big news. DevBootcamp was the first programming bootcamp model and The Iron Yard is a national player with 15 campuses across the U.S. In both cases, the companies cited an unsustainable business model. Does that mean the boot-camp model is dead?tl;dr Nope!Bootcamps exist because traditional education models have failed to provide students job-ready skills for the 21st century. Students demand better employment options from their education. Employers demand skilled and job ready candidates. Big Educations failure to meet those needs through traditional methods created the fertile ground for the new business model of the programming bootcamp.Education giant Kaplan and Apollo Education Group (owner of University of Phoenix) bought their way into this new educational model when they purchased The Iron Yard and DevBootcamp. They purchased their competition with the intent to scale up the model. Unfortunately, Big Education is too habituated to coming up short for students. They bought the upstarts that challenged them, tried making changes to run those bootcamps in the Big Education way, and, sadly, theyve closed the doors when they realized that scaling education is more challenging when student outcomes truly matter.The bootcamp model is still new and there will be plenty consolidation, competition, and changes in the future. This model is based onactuallybeing adaptive, innovative, and sustainable. And theres always room for innovation.What weve learned at Codeup...Education is challenging to scale.Prioritizing quality over growth pays off.What were doing at Codeup...Higher standards in our application process are leading to better student outcomes.Our reputation and commitment to quality is opening new doors to previously uninterested/unreachable employers.In the beginning, the majority of Codeup graduates went to work with startups and small businesses. Were now seeing a larger amount of our graduates place at medium to large sized businesses.Demand is growing and employers are learning that the results are in the graduates.Codeups model is sustainable, inclusive, and works.Call orcontact us todayto see how Codeups commitment to quality and approach to being a career accelerator can make a profound difference in your life.\n"
     ]
    }
   ],
   "source": [
    "for col in list(df):\n",
    "    for i in range(df.shape[0]):\n",
    "        print(unicodedata.normalize('NFKD', df[col][i])\\\n",
    "        .encode('ascii', 'ignore')\\\n",
    "        .decode('utf-8', 'ignore'))"
   ]
  },
  {
   "cell_type": "code",
   "execution_count": 6,
   "id": "36ce222d-f2c2-4e49-8822-aea77ef3820f",
   "metadata": {},
   "outputs": [
    {
     "data": {
      "text/plain": [
       "'data science vs data analytics whats the difference  codeup'"
      ]
     },
     "execution_count": 6,
     "metadata": {},
     "output_type": "execute_result"
    }
   ],
   "source": [
    "test_string = df.title[2].lower()\n",
    "re.sub(r\"[^a-z0-9'\\s]\", '', test_string)"
   ]
  },
  {
   "cell_type": "code",
   "execution_count": 7,
   "id": "19f0b22f-d96c-4010-a6a3-c5024a080ef1",
   "metadata": {},
   "outputs": [],
   "source": [
    "def basic_clean_whole_df(df):\n",
    "    '''\n",
    "    This function takes in a dataframe (with the columns you need cleaned)\n",
    "    Lowercases everything\n",
    "    Normalizes the unicode\n",
    "    And removes eveyrhint that's not a number, letter, ', or whitespace\n",
    "    returns a dataframe\n",
    "    '''\n",
    "    \n",
    "    # loop through columns turn everything into lower case\n",
    "    # works with series\n",
    "    for col in list(df):\n",
    "        df[col] = df[col].str.lower()\n",
    "        \n",
    "        # loop through each element in column for encoding and replacement\n",
    "        for i in range(df.shape[0]):\n",
    "            \n",
    "            # normalize unicode \n",
    "            df[col][i] = unicodedata.normalize('NFKD', df[col][i])\\\n",
    "            .encode('ascii', 'ignore')\\\n",
    "            .decode('utf-8', 'ignore')\n",
    "            \n",
    "            # remove everything thats not a number letter ' or whitespace\n",
    "            df[col][i] = re.sub(r\"[^a-z0-9'\\s]\", '', df[col][i])\n",
    "            \n",
    "    # return dataframe                           \n",
    "    return df"
   ]
  },
  {
   "cell_type": "code",
   "execution_count": 8,
   "id": "073fba95-891e-4a24-a0e5-8c2528472dba",
   "metadata": {},
   "outputs": [],
   "source": [
    "# rewrite function but to take in string and return string\n",
    "# then use vectorized operation to go through df aka use .apply\n",
    "\n",
    "def basic_clean(string):\n",
    "    '''\n",
    "    This function takes in a string\n",
    "    Lowercases everything\n",
    "    Normalizes the unicode\n",
    "    And removes eveyrhint that's not a number, letter, ', or whitespace\n",
    "    Returns a string\n",
    "    can be used with .apply for a dataframe\n",
    "    '''\n",
    "    # loop through columns turn everything into lower case\n",
    "    # works with series\n",
    "    new_string = string.lower()\n",
    "            \n",
    "    # normalize unicode \n",
    "    new_string =  unicodedata.normalize('NFKD', new_string)\\\n",
    "    .encode('ascii', 'ignore')\\\n",
    "    .decode('utf-8', 'ignore')\n",
    "    \n",
    "    # remove everything thats not a number letter ' or whitespace\n",
    "    new_string = re.sub(r\"[^a-z0-9'\\s]\", '', new_string)\n",
    "    \n",
    "    return new_string"
   ]
  },
  {
   "cell_type": "code",
   "execution_count": 9,
   "id": "b1b6ce07-b4a7-4a9f-bd5c-85265a06b718",
   "metadata": {},
   "outputs": [
    {
     "data": {
      "text/plain": [
       "0    codeups data science career accelerator is her...\n",
       "1                           data science myths  codeup\n",
       "2    data science vs data analytics whats the diffe...\n",
       "3    10 tips to crush it at the sa tech job fair  c...\n",
       "4    competitor bootcamps are closing is the model ...\n",
       "Name: title, dtype: object"
      ]
     },
     "execution_count": 9,
     "metadata": {},
     "output_type": "execute_result"
    }
   ],
   "source": [
    "df['title'].apply(basic_clean)"
   ]
  },
  {
   "cell_type": "code",
   "execution_count": 10,
   "id": "b4ee916e-1da6-4b2c-957a-0c3215622d10",
   "metadata": {},
   "outputs": [],
   "source": [
    "df['title_basic_clean'] = df['title'].apply(basic_clean)\n",
    "\n",
    "df['content_basic_clean'] = df['content'].apply(basic_clean)"
   ]
  },
  {
   "cell_type": "code",
   "execution_count": 11,
   "id": "48ede56b-e3cb-490d-9121-b66380079ee1",
   "metadata": {},
   "outputs": [
    {
     "data": {
      "text/html": [
       "<div>\n",
       "<style scoped>\n",
       "    .dataframe tbody tr th:only-of-type {\n",
       "        vertical-align: middle;\n",
       "    }\n",
       "\n",
       "    .dataframe tbody tr th {\n",
       "        vertical-align: top;\n",
       "    }\n",
       "\n",
       "    .dataframe thead th {\n",
       "        text-align: right;\n",
       "    }\n",
       "</style>\n",
       "<table border=\"1\" class=\"dataframe\">\n",
       "  <thead>\n",
       "    <tr style=\"text-align: right;\">\n",
       "      <th></th>\n",
       "      <th>title</th>\n",
       "      <th>content</th>\n",
       "      <th>title_basic_clean</th>\n",
       "      <th>content_basic_clean</th>\n",
       "    </tr>\n",
       "  </thead>\n",
       "  <tbody>\n",
       "    <tr>\n",
       "      <th>0</th>\n",
       "      <td>Codeup’s Data Science Career Accelerator is He...</td>\n",
       "      <td>The rumors are true! The time has arrived. Cod...</td>\n",
       "      <td>codeups data science career accelerator is her...</td>\n",
       "      <td>the rumors are true the time has arrived codeu...</td>\n",
       "    </tr>\n",
       "    <tr>\n",
       "      <th>1</th>\n",
       "      <td>Data Science Myths - Codeup</td>\n",
       "      <td>By Dimitri Antoniou and Maggie GiustData Scien...</td>\n",
       "      <td>data science myths  codeup</td>\n",
       "      <td>by dimitri antoniou and maggie giustdata scien...</td>\n",
       "    </tr>\n",
       "    <tr>\n",
       "      <th>2</th>\n",
       "      <td>Data Science VS Data Analytics: What’s The Dif...</td>\n",
       "      <td>By Dimitri AntoniouA week ago, Codeuplaunched ...</td>\n",
       "      <td>data science vs data analytics whats the diffe...</td>\n",
       "      <td>by dimitri antonioua week ago codeuplaunched o...</td>\n",
       "    </tr>\n",
       "    <tr>\n",
       "      <th>3</th>\n",
       "      <td>10 Tips to Crush It at the SA Tech Job Fair - ...</td>\n",
       "      <td>SA Tech Job FairThe third bi-annualSan Antonio...</td>\n",
       "      <td>10 tips to crush it at the sa tech job fair  c...</td>\n",
       "      <td>sa tech job fairthe third biannualsan antonio ...</td>\n",
       "    </tr>\n",
       "    <tr>\n",
       "      <th>4</th>\n",
       "      <td>Competitor Bootcamps Are Closing. Is the Model...</td>\n",
       "      <td>Competitor Bootcamps Are Closing. Is the Model...</td>\n",
       "      <td>competitor bootcamps are closing is the model ...</td>\n",
       "      <td>competitor bootcamps are closing is the model ...</td>\n",
       "    </tr>\n",
       "  </tbody>\n",
       "</table>\n",
       "</div>"
      ],
      "text/plain": [
       "                                               title  \\\n",
       "0  Codeup’s Data Science Career Accelerator is He...   \n",
       "1                        Data Science Myths - Codeup   \n",
       "2  Data Science VS Data Analytics: What’s The Dif...   \n",
       "3  10 Tips to Crush It at the SA Tech Job Fair - ...   \n",
       "4  Competitor Bootcamps Are Closing. Is the Model...   \n",
       "\n",
       "                                             content  \\\n",
       "0  The rumors are true! The time has arrived. Cod...   \n",
       "1  By Dimitri Antoniou and Maggie GiustData Scien...   \n",
       "2  By Dimitri AntoniouA week ago, Codeuplaunched ...   \n",
       "3  SA Tech Job FairThe third bi-annualSan Antonio...   \n",
       "4  Competitor Bootcamps Are Closing. Is the Model...   \n",
       "\n",
       "                                   title_basic_clean  \\\n",
       "0  codeups data science career accelerator is her...   \n",
       "1                         data science myths  codeup   \n",
       "2  data science vs data analytics whats the diffe...   \n",
       "3  10 tips to crush it at the sa tech job fair  c...   \n",
       "4  competitor bootcamps are closing is the model ...   \n",
       "\n",
       "                                 content_basic_clean  \n",
       "0  the rumors are true the time has arrived codeu...  \n",
       "1  by dimitri antoniou and maggie giustdata scien...  \n",
       "2  by dimitri antonioua week ago codeuplaunched o...  \n",
       "3  sa tech job fairthe third biannualsan antonio ...  \n",
       "4  competitor bootcamps are closing is the model ...  "
      ]
     },
     "execution_count": 11,
     "metadata": {},
     "output_type": "execute_result"
    }
   ],
   "source": [
    "df.head()"
   ]
  },
  {
   "cell_type": "markdown",
   "id": "c26faaf0-24fe-4277-896e-4bb5d63bf73e",
   "metadata": {},
   "source": [
    "2. Define a function named tokenize. It should take in a string and tokenize all the words in the string.\n",
    "```python\n",
    "def tokenizer(string):\n",
    "    \n",
    "    # do something\n",
    "    \n",
    "    return tokenized_string\n",
    "```"
   ]
  },
  {
   "cell_type": "code",
   "execution_count": 12,
   "id": "17730d64-5f10-4a6c-8cdd-ea6378fe4ec8",
   "metadata": {},
   "outputs": [
    {
     "name": "stdout",
     "output_type": "stream",
     "text": [
      "Data Science Myths - Codeup\n"
     ]
    }
   ],
   "source": [
    "tokenizer = nltk.tokenize.ToktokTokenizer()\n",
    "\n",
    "print(tokenizer.tokenize(df.title[1], return_str=True))"
   ]
  },
  {
   "cell_type": "code",
   "execution_count": 13,
   "id": "f62852b4-2e91-4eb0-a2ee-1953ae6f93a1",
   "metadata": {},
   "outputs": [],
   "source": [
    "def tokenize_me(string):\n",
    "    '''\n",
    "    This function takes in a string \n",
    "    Returns the tokenized string\n",
    "    Can be used with .apply to apply to dataframe\n",
    "    '''\n",
    "    # make tokenizer\n",
    "    tokenizer = nltk.tokenize.ToktokTokenizer()\n",
    "    \n",
    "    # tokenize string and assign to new_string\n",
    "    new_string = tokenizer.tokenize(string, return_str=True)\n",
    "    \n",
    "    # return new_string\n",
    "    return new_string"
   ]
  },
  {
   "cell_type": "code",
   "execution_count": 14,
   "id": "8ede7287-33de-493f-bd14-10a9b0c6f003",
   "metadata": {},
   "outputs": [
    {
     "data": {
      "text/plain": [
       "0    codeups data science career accelerator is her...\n",
       "1                            data science myths codeup\n",
       "2    data science vs data analytics whats the diffe...\n",
       "3    10 tips to crush it at the sa tech job fair co...\n",
       "4    competitor bootcamps are closing is the model ...\n",
       "Name: title_basic_clean, dtype: object"
      ]
     },
     "execution_count": 14,
     "metadata": {},
     "output_type": "execute_result"
    }
   ],
   "source": [
    "# test\n",
    "df['title_basic_clean'].apply(tokenize_me)"
   ]
  },
  {
   "cell_type": "code",
   "execution_count": 15,
   "id": "68f9238b-c098-43ca-8b10-c7b643e390f2",
   "metadata": {},
   "outputs": [],
   "source": [
    "# add columns to df\n",
    "\n",
    "df['title_tokenized'] = df['title_basic_clean'].apply(tokenize_me)\n",
    "\n",
    "df['content_tokenized'] = df['content_basic_clean'].apply(tokenize_me)"
   ]
  },
  {
   "cell_type": "markdown",
   "id": "ed09bb02-45b4-4a3d-ad73-81fd94f588dd",
   "metadata": {},
   "source": [
    "3. Define a function named stem. It should accept some text and return the text after applying stemming to all the words."
   ]
  },
  {
   "cell_type": "code",
   "execution_count": 16,
   "id": "93950024-0f76-424c-bca4-979046077316",
   "metadata": {},
   "outputs": [],
   "source": [
    "def stem(string):\n",
    "    '''\n",
    "    Function takes in a string\n",
    "    Returns string stems \n",
    "    Uses Porter Stemmer\n",
    "    can be used with .apply for dataframes\n",
    "    '''\n",
    "    # create stemmer\n",
    "    ps = nltk.porter.PorterStemmer()\n",
    "    \n",
    "    # get the stems from string in list\n",
    "    stems = [ps.stem(word) for word in string.split()]\n",
    "    \n",
    "    # join all words in string with a space\n",
    "    string_stemmed = ' '.join(stems)\n",
    "    \n",
    "    return string_stemmed"
   ]
  },
  {
   "cell_type": "code",
   "execution_count": 17,
   "id": "b24b4020-4dab-4c5a-9be5-98d1782ea651",
   "metadata": {},
   "outputs": [
    {
     "data": {
      "text/plain": [
       "0     codeup data scienc career acceler is here codeup\n",
       "1                              data scienc myth codeup\n",
       "2    data scienc vs data analyt what the differ codeup\n",
       "3    10 tip to crush it at the sa tech job fair codeup\n",
       "4    competitor bootcamp are close is the model in ...\n",
       "Name: title_tokenized, dtype: object"
      ]
     },
     "execution_count": 17,
     "metadata": {},
     "output_type": "execute_result"
    }
   ],
   "source": [
    "# test \n",
    "df['title_tokenized'].apply(stem)"
   ]
  },
  {
   "cell_type": "code",
   "execution_count": 18,
   "id": "8c8d44e2-d49e-479a-b35c-6b4060a37c30",
   "metadata": {},
   "outputs": [],
   "source": [
    "# apply to new columns\n",
    "df['title_stemmed'] = df['title_tokenized'].apply(stem)\n",
    "\n",
    "df['content_stemmed'] = df['content_tokenized'].apply(stem)"
   ]
  },
  {
   "cell_type": "markdown",
   "id": "fe6fac89-03f1-41c9-8ce3-fded05e64701",
   "metadata": {},
   "source": [
    "4. Define a function named lemmatize. It should accept some text and return the text after applying lemmatization to each word."
   ]
  },
  {
   "cell_type": "code",
   "execution_count": 19,
   "id": "05145fce-4bdb-4899-9110-428d2c361eb3",
   "metadata": {},
   "outputs": [],
   "source": [
    "# nltk.download('wordnet')"
   ]
  },
  {
   "cell_type": "code",
   "execution_count": 20,
   "id": "b816c584-6248-4be0-8d5e-59afeea5da04",
   "metadata": {},
   "outputs": [],
   "source": [
    "def lemmatize(string):\n",
    "    '''\n",
    "    Function takes in string\n",
    "    Returns lemmatized string\n",
    "    \n",
    "    '''\n",
    "    \n",
    "    wnl = nltk.stem.WordNetLemmatizer()\n",
    "\n",
    "    lemmas = [wnl.lemmatize(word) for word in string.split()]\n",
    "    \n",
    "    string_stemmed = ' '.join(lemmas)\n",
    "    \n",
    "    return string_stemmed"
   ]
  },
  {
   "cell_type": "code",
   "execution_count": 21,
   "id": "9d0bb0fd-e54f-4bd1-8118-97abc09262fc",
   "metadata": {},
   "outputs": [
    {
     "data": {
      "text/plain": [
       "0    codeups data science career accelerator is her...\n",
       "1                             data science myth codeup\n",
       "2    data science v data analytics whats the differ...\n",
       "3    10 tip to crush it at the sa tech job fair codeup\n",
       "4    competitor bootcamps are closing is the model ...\n",
       "Name: title_tokenized, dtype: object"
      ]
     },
     "execution_count": 21,
     "metadata": {},
     "output_type": "execute_result"
    }
   ],
   "source": [
    "df['title_tokenized'].apply(lemmatize)"
   ]
  },
  {
   "cell_type": "markdown",
   "id": "fd96fa57-531d-4f91-a44e-6f2dc7412f88",
   "metadata": {},
   "source": [
    "5. Define a function named remove_stopwords. It should accept some text and return the text after removing all the stopwords.\n",
    "\n",
    "    - This function should define two optional parameters, extra_words and exclude_words. These parameters should define any additional stop words to include, and any words that we don't want to remove."
   ]
  },
  {
   "cell_type": "code",
   "execution_count": 46,
   "id": "bf855bf4-8a80-4f04-84b6-95ea93cbf4c7",
   "metadata": {},
   "outputs": [],
   "source": [
    "def remove_stopwords(string, extra_words = [], exclude_words = []):\n",
    "    '''\n",
    "    This function takes in a string\n",
    "    And returns the string with the English stopwords removed\n",
    "    Add extra_words (list)\n",
    "    or exclude_words (list)\n",
    "    with the optional arguements\n",
    "    \n",
    "    -- This might break if the excluded words aren't in the stopwords list\n",
    "    '''\n",
    "    # define stopwords list                    # make sure you have the right stuff imported\n",
    "    stopwords_list = stopwords.words('English')\n",
    "    \n",
    "    # add or remove words based on arguements\n",
    "    stopwords_list = set(stopwords_list) - set(exclude_words) # the set removes words\n",
    "    \n",
    "    stopwords_list = stopwords_list.union(set(extra_words))\n",
    "        \n",
    "    # remove stopwords from string\n",
    "    # turn string into list\n",
    "    words = string.split()\n",
    "    \n",
    "    # remove the stopwords\n",
    "    filtered_words = [w for w in words if w not in stopwords_list]\n",
    "    \n",
    "    # turn back into a string\n",
    "    new_string = ' '.join(filtered_words)\n",
    "    \n",
    "    return new_string\n",
    "    "
   ]
  },
  {
   "cell_type": "code",
   "execution_count": 53,
   "id": "e3108bb5-8b46-4d7e-88ff-55946aaa1c2d",
   "metadata": {},
   "outputs": [
    {
     "data": {
      "text/plain": [
       "'my name is heather bad player game'"
      ]
     },
     "execution_count": 53,
     "metadata": {},
     "output_type": "execute_result"
    }
   ],
   "source": [
    "string = 'hi my name is heather and i am a bad player in this game'\n",
    "\n",
    "extra_words = ['hi']\n",
    "exclude_words = ['my','is']\n",
    "\n",
    "remove_stopwords(string, extra_words, exclude_words)"
   ]
  },
  {
   "cell_type": "markdown",
   "id": "6aba622e-72f0-4f17-972a-b619dfa7aec6",
   "metadata": {},
   "source": [
    "6. Use your data from the acquire to produce a dataframe of the news articles. Name the dataframe news_df."
   ]
  },
  {
   "cell_type": "code",
   "execution_count": 38,
   "id": "61756c00-f51d-4564-a7dc-130810b75c9e",
   "metadata": {},
   "outputs": [],
   "source": [
    "# set up base url and categories list\n",
    "base_url = 'https://inshorts.com/en/read'\n",
    "categories = ['sports', 'entertainment', 'business', 'technology']\n",
    "\n",
    "# get news dataframe \n",
    "news_df = acquire.get_blog_articles2()"
   ]
  },
  {
   "cell_type": "markdown",
   "id": "3e9823ef-e657-4ae2-91a5-e4ed78d4aba9",
   "metadata": {},
   "source": [
    "7. Make another dataframe for the Codeup blog posts. Name the dataframe codeup_df."
   ]
  },
  {
   "cell_type": "code",
   "execution_count": 25,
   "id": "4353b777-2ca0-49cf-a119-e82b1b1b429f",
   "metadata": {},
   "outputs": [],
   "source": [
    "codeup_df = acquire.get_blog_articles()"
   ]
  },
  {
   "cell_type": "markdown",
   "id": "3308f2a6-787f-4bf6-a1a7-db19d67f7ead",
   "metadata": {},
   "source": [
    "8. For each dataframe, produce the following columns:\n",
    "    - title to hold the title\n",
    "    - original to hold the original article/post content\n",
    "    - clean to hold the normalized and tokenized original with the stopwords removed.\n",
    "    - stemmed to hold the stemmed version of the cleaned data.\n",
    "    - lemmatized to hold the lemmatized version of the cleaned data."
   ]
  },
  {
   "cell_type": "code",
   "execution_count": 27,
   "id": "af60b0cf-6530-409a-8a2c-0320a7079dec",
   "metadata": {},
   "outputs": [],
   "source": [
    "# title\n",
    "    # already there\n",
    "    \n",
    "# original content\n",
    "codeup_df['original'] = codeup_df['content']\n",
    "\n",
    "# clean (normalized, tokenized, no stopwords)\n",
    "codeup_df['clean'] = codeup_df['content'].apply(basic_clean).apply(tokenize_me).apply(lambda x: remove_stopwords(x) )\n",
    "\n",
    "# stemmed (version of clean)\n",
    "codeup_df['stemmed'] = codeup_df['clean'].apply(stem)\n",
    "\n",
    "# lemmatized (version of clean)\n",
    "\n",
    "codeup_df['lemmatized'] = codeup_df['clean'].apply(lemmatize)"
   ]
  },
  {
   "cell_type": "code",
   "execution_count": 54,
   "id": "e8ed9ff9-61a2-42b6-8339-b1b188c878cd",
   "metadata": {},
   "outputs": [],
   "source": [
    "def prep_nlp(df, content = 'content', extra_words = [], exclude_words=[] ):\n",
    "    '''\n",
    "    This function takes in a dataframe and returns a dataframe with\n",
    "    an original column\n",
    "    a cleaned (normalized, tokenized and no stop words) column\n",
    "    a stemmed column\n",
    "    and a lemmatized column\n",
    "    '''\n",
    "    # original content\n",
    "    df['original'] = df[content]\n",
    "    \n",
    "    #clean (normalized, tokenized, no stopwords)\n",
    "    df['clean'] = df['content'].apply(basic_clean).apply(tokenize_me).apply(lambda x: remove_stopwords(x, extra_words, exclude_words))\n",
    "    \n",
    "    #stemmed (version of clean)\n",
    "    df['stemmed'] = df['clean'].apply(stem)\n",
    "    \n",
    "    #lemmatized (version of clean)\n",
    "    df['lemmatized'] = df['clean'].apply(lemmatize)\n",
    "    \n",
    "    return df"
   ]
  },
  {
   "cell_type": "code",
   "execution_count": 32,
   "id": "4559c55e-c761-4b2b-a619-badfea1cdbfd",
   "metadata": {},
   "outputs": [
    {
     "data": {
      "text/html": [
       "<div>\n",
       "<style scoped>\n",
       "    .dataframe tbody tr th:only-of-type {\n",
       "        vertical-align: middle;\n",
       "    }\n",
       "\n",
       "    .dataframe tbody tr th {\n",
       "        vertical-align: top;\n",
       "    }\n",
       "\n",
       "    .dataframe thead th {\n",
       "        text-align: right;\n",
       "    }\n",
       "</style>\n",
       "<table border=\"1\" class=\"dataframe\">\n",
       "  <thead>\n",
       "    <tr style=\"text-align: right;\">\n",
       "      <th></th>\n",
       "      <th>title</th>\n",
       "      <th>content</th>\n",
       "      <th>category</th>\n",
       "    </tr>\n",
       "  </thead>\n",
       "  <tbody>\n",
       "    <tr>\n",
       "      <th>0</th>\n",
       "      <td>What was the pistol issue that cost Bhaker a s...</td>\n",
       "      <td>Manu Bhaker couldn't qualify for women's 10m A...</td>\n",
       "      <td>sports</td>\n",
       "    </tr>\n",
       "    <tr>\n",
       "      <th>1</th>\n",
       "      <td>Robot shoots perfect basketball throws during ...</td>\n",
       "      <td>Toyota's 'CUE' robot shot perfect free throws ...</td>\n",
       "      <td>sports</td>\n",
       "    </tr>\n",
       "    <tr>\n",
       "      <th>2</th>\n",
       "      <td>Video of young girl imitating Mirabai's Olympi...</td>\n",
       "      <td>A video of a young girl imitating weightlifter...</td>\n",
       "      <td>sports</td>\n",
       "    </tr>\n",
       "    <tr>\n",
       "      <th>3</th>\n",
       "      <td>World number 2 Osaka knocked out of Olympics b...</td>\n",
       "      <td>World number two women's tennis player Naomi O...</td>\n",
       "      <td>sports</td>\n",
       "    </tr>\n",
       "    <tr>\n",
       "      <th>4</th>\n",
       "      <td>23-year-old Indian boxer Lovlina Borgohain adv...</td>\n",
       "      <td>India's 23-year-old boxer Lovlina Borgohain st...</td>\n",
       "      <td>sports</td>\n",
       "    </tr>\n",
       "  </tbody>\n",
       "</table>\n",
       "</div>"
      ],
      "text/plain": [
       "                                               title  \\\n",
       "0  What was the pistol issue that cost Bhaker a s...   \n",
       "1  Robot shoots perfect basketball throws during ...   \n",
       "2  Video of young girl imitating Mirabai's Olympi...   \n",
       "3  World number 2 Osaka knocked out of Olympics b...   \n",
       "4  23-year-old Indian boxer Lovlina Borgohain adv...   \n",
       "\n",
       "                                             content category  \n",
       "0  Manu Bhaker couldn't qualify for women's 10m A...   sports  \n",
       "1  Toyota's 'CUE' robot shot perfect free throws ...   sports  \n",
       "2  A video of a young girl imitating weightlifter...   sports  \n",
       "3  World number two women's tennis player Naomi O...   sports  \n",
       "4  India's 23-year-old boxer Lovlina Borgohain st...   sports  "
      ]
     },
     "execution_count": 32,
     "metadata": {},
     "output_type": "execute_result"
    }
   ],
   "source": [
    "news_df.head()"
   ]
  },
  {
   "cell_type": "code",
   "execution_count": 41,
   "id": "8690fcf6-06f6-46fc-a6d3-eb317025ee2a",
   "metadata": {},
   "outputs": [],
   "source": [
    "df = prep_nlp(news_df)"
   ]
  },
  {
   "cell_type": "code",
   "execution_count": 42,
   "id": "92cd990a-a2ed-41c2-9753-13ccf8d49b11",
   "metadata": {},
   "outputs": [
    {
     "data": {
      "text/html": [
       "<div>\n",
       "<style scoped>\n",
       "    .dataframe tbody tr th:only-of-type {\n",
       "        vertical-align: middle;\n",
       "    }\n",
       "\n",
       "    .dataframe tbody tr th {\n",
       "        vertical-align: top;\n",
       "    }\n",
       "\n",
       "    .dataframe thead th {\n",
       "        text-align: right;\n",
       "    }\n",
       "</style>\n",
       "<table border=\"1\" class=\"dataframe\">\n",
       "  <thead>\n",
       "    <tr style=\"text-align: right;\">\n",
       "      <th></th>\n",
       "      <th>title</th>\n",
       "      <th>content</th>\n",
       "      <th>category</th>\n",
       "      <th>original</th>\n",
       "      <th>clean</th>\n",
       "      <th>stemmed</th>\n",
       "      <th>lemmatized</th>\n",
       "    </tr>\n",
       "  </thead>\n",
       "  <tbody>\n",
       "    <tr>\n",
       "      <th>0</th>\n",
       "      <td>23-year-old Indian boxer Lovlina Borgohain adv...</td>\n",
       "      <td>India's 23-year-old boxer Lovlina Borgohain st...</td>\n",
       "      <td>sports</td>\n",
       "      <td>India's 23-year-old boxer Lovlina Borgohain st...</td>\n",
       "      <td>india ' 23yearold boxer lovlina borgohain star...</td>\n",
       "      <td>india ' 23yearold boxer lovlina borgohain star...</td>\n",
       "      <td>india ' 23yearold boxer lovlina borgohain star...</td>\n",
       "    </tr>\n",
       "    <tr>\n",
       "      <th>1</th>\n",
       "      <td>Chinese diplomats criticise use of 'ugly' pic ...</td>\n",
       "      <td>Chinese embassy in Sri Lanka criticised the us...</td>\n",
       "      <td>sports</td>\n",
       "      <td>Chinese embassy in Sri Lanka criticised the us...</td>\n",
       "      <td>chinese embassy sri lanka criticised use unfla...</td>\n",
       "      <td>chines embassi sri lanka criticis use unflatt ...</td>\n",
       "      <td>chinese embassy sri lanka criticised use unfla...</td>\n",
       "    </tr>\n",
       "    <tr>\n",
       "      <th>2</th>\n",
       "      <td>World number 2 Osaka knocked out of Olympics b...</td>\n",
       "      <td>World number two women's tennis player Naomi O...</td>\n",
       "      <td>sports</td>\n",
       "      <td>World number two women's tennis player Naomi O...</td>\n",
       "      <td>world number two women ' tennis player naomi o...</td>\n",
       "      <td>world number two women ' tenni player naomi os...</td>\n",
       "      <td>world number two woman ' tennis player naomi o...</td>\n",
       "    </tr>\n",
       "    <tr>\n",
       "      <th>3</th>\n",
       "      <td>Robot shoots perfect basketball throws during ...</td>\n",
       "      <td>Toyota's 'CUE' robot shot perfect free throws ...</td>\n",
       "      <td>sports</td>\n",
       "      <td>Toyota's 'CUE' robot shot perfect free throws ...</td>\n",
       "      <td>toyota ' ' cue ' robot shot perfect free throw...</td>\n",
       "      <td>toyota ' ' cue ' robot shot perfect free throw...</td>\n",
       "      <td>toyota ' ' cue ' robot shot perfect free throw...</td>\n",
       "    </tr>\n",
       "    <tr>\n",
       "      <th>4</th>\n",
       "      <td>What was the pistol issue that cost Bhaker a s...</td>\n",
       "      <td>Manu Bhaker couldn't qualify for women's 10m A...</td>\n",
       "      <td>sports</td>\n",
       "      <td>Manu Bhaker couldn't qualify for women's 10m A...</td>\n",
       "      <td>manu bhaker ' qualify women ' 10m air pistol f...</td>\n",
       "      <td>manu bhaker ' qualifi women ' 10m air pistol f...</td>\n",
       "      <td>manu bhaker ' qualify woman ' 10m air pistol f...</td>\n",
       "    </tr>\n",
       "    <tr>\n",
       "      <th>...</th>\n",
       "      <td>...</td>\n",
       "      <td>...</td>\n",
       "      <td>...</td>\n",
       "      <td>...</td>\n",
       "      <td>...</td>\n",
       "      <td>...</td>\n",
       "      <td>...</td>\n",
       "    </tr>\n",
       "    <tr>\n",
       "      <th>93</th>\n",
       "      <td>Russia blocks 49 sites linked to Putin critic ...</td>\n",
       "      <td>Russian internet regulator Roskomnadzor has bl...</td>\n",
       "      <td>technology</td>\n",
       "      <td>Russian internet regulator Roskomnadzor has bl...</td>\n",
       "      <td>russian internet regulator roskomnadzor blocke...</td>\n",
       "      <td>russian internet regul roskomnadzor block 49 w...</td>\n",
       "      <td>russian internet regulator roskomnadzor blocke...</td>\n",
       "    </tr>\n",
       "    <tr>\n",
       "      <th>94</th>\n",
       "      <td>Bengaluru ranks 8th in technology innovation h...</td>\n",
       "      <td>Bengaluru has been ranked eighth in the top 10...</td>\n",
       "      <td>technology</td>\n",
       "      <td>Bengaluru has been ranked eighth in the top 10...</td>\n",
       "      <td>bengaluru ranked eighth top 10 cities seen lea...</td>\n",
       "      <td>bengaluru rank eighth top 10 citi seen lead te...</td>\n",
       "      <td>bengaluru ranked eighth top 10 city seen leadi...</td>\n",
       "    </tr>\n",
       "    <tr>\n",
       "      <th>95</th>\n",
       "      <td>Goldman Sachs files to offer a crypto-related ...</td>\n",
       "      <td>Goldman Sachs Group's asset-management arm has...</td>\n",
       "      <td>technology</td>\n",
       "      <td>Goldman Sachs Group's asset-management arm has...</td>\n",
       "      <td>goldman sachs group ' assetmanagement arm file...</td>\n",
       "      <td>goldman sach group ' assetmanag arm file appli...</td>\n",
       "      <td>goldman sachs group ' assetmanagement arm file...</td>\n",
       "    </tr>\n",
       "    <tr>\n",
       "      <th>96</th>\n",
       "      <td>WeChat suspends new registrations in China for...</td>\n",
       "      <td>Tencent-owned WeChat has temporarily suspended...</td>\n",
       "      <td>technology</td>\n",
       "      <td>Tencent-owned WeChat has temporarily suspended...</td>\n",
       "      <td>tencentowned wechat temporarily suspended new ...</td>\n",
       "      <td>tencentown wechat temporarili suspend new user...</td>\n",
       "      <td>tencentowned wechat temporarily suspended new ...</td>\n",
       "    </tr>\n",
       "    <tr>\n",
       "      <th>97</th>\n",
       "      <td>PMC's General Body gives nod to e-bike renting...</td>\n",
       "      <td>Pune Municipal Corporation's General Body co-j...</td>\n",
       "      <td>technology</td>\n",
       "      <td>Pune Municipal Corporation's General Body co-j...</td>\n",
       "      <td>pune municipal corporation ' general body cojo...</td>\n",
       "      <td>pune municip corpor ' gener bodi cojointli gav...</td>\n",
       "      <td>pune municipal corporation ' general body cojo...</td>\n",
       "    </tr>\n",
       "  </tbody>\n",
       "</table>\n",
       "<p>98 rows × 7 columns</p>\n",
       "</div>"
      ],
      "text/plain": [
       "                                                title  \\\n",
       "0   23-year-old Indian boxer Lovlina Borgohain adv...   \n",
       "1   Chinese diplomats criticise use of 'ugly' pic ...   \n",
       "2   World number 2 Osaka knocked out of Olympics b...   \n",
       "3   Robot shoots perfect basketball throws during ...   \n",
       "4   What was the pistol issue that cost Bhaker a s...   \n",
       "..                                                ...   \n",
       "93  Russia blocks 49 sites linked to Putin critic ...   \n",
       "94  Bengaluru ranks 8th in technology innovation h...   \n",
       "95  Goldman Sachs files to offer a crypto-related ...   \n",
       "96  WeChat suspends new registrations in China for...   \n",
       "97  PMC's General Body gives nod to e-bike renting...   \n",
       "\n",
       "                                              content    category  \\\n",
       "0   India's 23-year-old boxer Lovlina Borgohain st...      sports   \n",
       "1   Chinese embassy in Sri Lanka criticised the us...      sports   \n",
       "2   World number two women's tennis player Naomi O...      sports   \n",
       "3   Toyota's 'CUE' robot shot perfect free throws ...      sports   \n",
       "4   Manu Bhaker couldn't qualify for women's 10m A...      sports   \n",
       "..                                                ...         ...   \n",
       "93  Russian internet regulator Roskomnadzor has bl...  technology   \n",
       "94  Bengaluru has been ranked eighth in the top 10...  technology   \n",
       "95  Goldman Sachs Group's asset-management arm has...  technology   \n",
       "96  Tencent-owned WeChat has temporarily suspended...  technology   \n",
       "97  Pune Municipal Corporation's General Body co-j...  technology   \n",
       "\n",
       "                                             original  \\\n",
       "0   India's 23-year-old boxer Lovlina Borgohain st...   \n",
       "1   Chinese embassy in Sri Lanka criticised the us...   \n",
       "2   World number two women's tennis player Naomi O...   \n",
       "3   Toyota's 'CUE' robot shot perfect free throws ...   \n",
       "4   Manu Bhaker couldn't qualify for women's 10m A...   \n",
       "..                                                ...   \n",
       "93  Russian internet regulator Roskomnadzor has bl...   \n",
       "94  Bengaluru has been ranked eighth in the top 10...   \n",
       "95  Goldman Sachs Group's asset-management arm has...   \n",
       "96  Tencent-owned WeChat has temporarily suspended...   \n",
       "97  Pune Municipal Corporation's General Body co-j...   \n",
       "\n",
       "                                                clean  \\\n",
       "0   india ' 23yearold boxer lovlina borgohain star...   \n",
       "1   chinese embassy sri lanka criticised use unfla...   \n",
       "2   world number two women ' tennis player naomi o...   \n",
       "3   toyota ' ' cue ' robot shot perfect free throw...   \n",
       "4   manu bhaker ' qualify women ' 10m air pistol f...   \n",
       "..                                                ...   \n",
       "93  russian internet regulator roskomnadzor blocke...   \n",
       "94  bengaluru ranked eighth top 10 cities seen lea...   \n",
       "95  goldman sachs group ' assetmanagement arm file...   \n",
       "96  tencentowned wechat temporarily suspended new ...   \n",
       "97  pune municipal corporation ' general body cojo...   \n",
       "\n",
       "                                              stemmed  \\\n",
       "0   india ' 23yearold boxer lovlina borgohain star...   \n",
       "1   chines embassi sri lanka criticis use unflatt ...   \n",
       "2   world number two women ' tenni player naomi os...   \n",
       "3   toyota ' ' cue ' robot shot perfect free throw...   \n",
       "4   manu bhaker ' qualifi women ' 10m air pistol f...   \n",
       "..                                                ...   \n",
       "93  russian internet regul roskomnadzor block 49 w...   \n",
       "94  bengaluru rank eighth top 10 citi seen lead te...   \n",
       "95  goldman sach group ' assetmanag arm file appli...   \n",
       "96  tencentown wechat temporarili suspend new user...   \n",
       "97  pune municip corpor ' gener bodi cojointli gav...   \n",
       "\n",
       "                                           lemmatized  \n",
       "0   india ' 23yearold boxer lovlina borgohain star...  \n",
       "1   chinese embassy sri lanka criticised use unfla...  \n",
       "2   world number two woman ' tennis player naomi o...  \n",
       "3   toyota ' ' cue ' robot shot perfect free throw...  \n",
       "4   manu bhaker ' qualify woman ' 10m air pistol f...  \n",
       "..                                                ...  \n",
       "93  russian internet regulator roskomnadzor blocke...  \n",
       "94  bengaluru ranked eighth top 10 city seen leadi...  \n",
       "95  goldman sachs group ' assetmanagement arm file...  \n",
       "96  tencentowned wechat temporarily suspended new ...  \n",
       "97  pune municipal corporation ' general body cojo...  \n",
       "\n",
       "[98 rows x 7 columns]"
      ]
     },
     "execution_count": 42,
     "metadata": {},
     "output_type": "execute_result"
    }
   ],
   "source": [
    "df"
   ]
  },
  {
   "cell_type": "markdown",
   "id": "6df0e662-db29-4fbe-8350-9cbae1f93a49",
   "metadata": {},
   "source": [
    "9. Ask yourself:\n",
    "\n",
    "    - If your corpus is 493KB, would you prefer to use stemmed or lemmatized text?\n",
    "        - I would use lemmatized. It's a little more precise even though it's computationally expensive\n",
    "    - If your corpus is 25MB, would you prefer to use stemmed or lemmatized text?\n",
    "        - It depends. If the stemmed text does the job I might use that, but if I can afford to lemmatize the text I might decide to go with that. Depends on the text I'm looking at\n",
    "    - If your corpus is 200TB of text and you're charged by the megabyte for your hosted computational resources, would you prefer to use stemmed or lemmatized text?\n",
    "        - Stemmed, much less computationally expensive. Will "
   ]
  },
  {
   "cell_type": "code",
   "execution_count": null,
   "id": "7c990bbe-ec64-4743-899c-7e5bf240e919",
   "metadata": {},
   "outputs": [],
   "source": []
  },
  {
   "cell_type": "code",
   "execution_count": null,
   "id": "1a6a4571-5e7b-4440-9556-dec8c56c2c16",
   "metadata": {},
   "outputs": [],
   "source": []
  }
 ],
 "metadata": {
  "kernelspec": {
   "display_name": "Python 3",
   "language": "python",
   "name": "python3"
  },
  "language_info": {
   "codemirror_mode": {
    "name": "ipython",
    "version": 3
   },
   "file_extension": ".py",
   "mimetype": "text/x-python",
   "name": "python",
   "nbconvert_exporter": "python",
   "pygments_lexer": "ipython3",
   "version": "3.8.5"
  }
 },
 "nbformat": 4,
 "nbformat_minor": 5
}
